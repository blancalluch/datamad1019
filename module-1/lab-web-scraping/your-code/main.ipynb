{
 "cells": [
  {
   "cell_type": "markdown",
   "metadata": {},
   "source": [
    "# Web Scraping Lab\n",
    "\n",
    "You will find in this notebook some scrapy exercises to practise your scraping skills.\n",
    "\n",
    "**Tips:**\n",
    "\n",
    "- Check the response status code for each request to ensure you have obtained the intended contennt.\n",
    "- Print the response text in each request to understand the kind of info you are getting and its format.\n",
    "- Check for patterns in the response text to extract the data/info requested in each question.\n",
    "- Visit each url and take a look at its source through Chrome DevTools. You'll need to identify the html tags, special class names etc. used for the html content you are expected to extract."
   ]
  },
  {
   "cell_type": "markdown",
   "metadata": {},
   "source": [
    "- [Requests library](http://docs.python-requests.org/en/master/#the-user-guide) documentation \n",
    "- [Beautiful Soup Doc](https://www.crummy.com/software/BeautifulSoup/bs4/doc/)\n",
    "- [Urllib](https://docs.python.org/3/library/urllib.html#module-urllib)\n",
    "- [re lib](https://docs.python.org/3/library/re.html)\n",
    "- [lxml lib](https://lxml.de/)\n",
    "- [Scrapy](https://scrapy.org/)\n",
    "- [List of HTTP status codes](https://en.wikipedia.org/wiki/List_of_HTTP_status_codes)\n",
    "- [HTML basics](http://www.simplehtmlguide.com/cheatsheet.php)\n",
    "- [CSS basics](https://www.cssbasics.com/#page_start)"
   ]
  },
  {
   "cell_type": "markdown",
   "metadata": {},
   "source": [
    "#### Below are the libraries and modules you may need. `requests`,  `BeautifulSoup` and `pandas` are imported for you. If you prefer to use additional libraries feel free to uncomment them."
   ]
  },
  {
   "cell_type": "code",
   "execution_count": 111,
   "metadata": {},
   "outputs": [],
   "source": [
    "import requests\n",
    "from bs4 import BeautifulSoup\n",
    "import pandas as pd\n",
    "# from pprint import pprint\n",
    "# from lxml import html\n",
    "# from lxml.html import fromstring\n",
    "# import urllib.request\n",
    "# from urllib.request import urlopen\n",
    "# import random\n",
    "import re\n",
    "# import scrapy\n",
    "from IPython.display import Image\n",
    "from IPython.core.display import HTML "
   ]
  },
  {
   "cell_type": "markdown",
   "metadata": {},
   "source": [
    "#### Download, parse (using BeautifulSoup), and print the content from the Trending Developers page from GitHub:"
   ]
  },
  {
   "cell_type": "code",
   "execution_count": 11,
   "metadata": {},
   "outputs": [],
   "source": [
    "# This is the url you will scrape in this exercise\n",
    "url = 'https://github.com/trending/developers?since=weekly'"
   ]
  },
  {
   "cell_type": "code",
   "execution_count": 16,
   "metadata": {},
   "outputs": [],
   "source": [
    "#your code\n",
    "res=requests.get(url)\n",
    "html=res.text\n",
    "soup=BeautifulSoup(html,'html.parser')\n",
    "\n",
    "\n"
   ]
  },
  {
   "cell_type": "code",
   "execution_count": 22,
   "metadata": {},
   "outputs": [
    {
     "name": "stdout",
     "output_type": "stream",
     "text": [
      "[{'nombre': 'Robert Mosolgo', 'user': 'rmosolgo'}, {'nombre': 'Vinayak Mehta', 'user': 'vinayak-mehta'}, {'nombre': 'Piotrek Witek', 'user': 'piotrwitek'}, {'nombre': 'Liyas Thomas', 'user': 'liyasthomas'}, {'nombre': 'Tomoki Hayashi', 'user': 'kan-bayashi'}, {'nombre': 'Darío Kondratiuk', 'user': 'kblok'}, {'nombre': 'Asim Aslam', 'user': 'asim'}, {'nombre': 'Jared Palmer', 'user': 'jaredpalmer'}, {'nombre': 'Satyajit Sahoo', 'user': 'satya164'}, {'nombre': 'Mark Erikson', 'user': 'markerikson'}, {'nombre': 'Julien Danjou', 'user': 'jd'}, {'nombre': 'Klaus Post', 'user': 'klauspost'}, {'nombre': 'Felix Angelov', 'user': 'felangel'}, {'nombre': 'Jonah Williams', 'user': 'jonahwilliams'}, {'nombre': 'Tejas Kumar', 'user': 'TejasQ'}, {'nombre': 'Evan Bacon', 'user': 'EvanBacon'}, {'nombre': 'Ross A. Baker', 'user': 'rossabaker'}, {'nombre': 'Matt Holt', 'user': 'mholt'}, {'nombre': 'chencheng (云谦)', 'user': 'sorrycc'}, {'nombre': 'Arjay Angeles', 'user': 'yajra'}, {'nombre': 'Takafumi Arakaki', 'user': 'tkf'}, {'nombre': 'Kishikawa Katsumi', 'user': 'kishikawakatsumi'}, {'nombre': 'Ives van Hoorne', 'user': 'CompuIves'}, {'nombre': 'Paul DeMarco', 'user': 'pauldemarco'}, {'nombre': 'Mitchell Hashimoto', 'user': 'mitchellh'}]\n"
     ]
    }
   ],
   "source": [
    "trending = []\n",
    "for tag in soup.select('.h3.lh-condensed'):\n",
    "    name = tag.find('a')\n",
    "    if name:\n",
    "        \n",
    "        trending.append({\n",
    "            \"nombre\":name.text.strip(),\n",
    "            \"user\": name.get('href')[1:]\n",
    "        })\n",
    "print(trending)"
   ]
  },
  {
   "cell_type": "markdown",
   "metadata": {},
   "source": [
    "#### Display the names of the trending developers retrieved in the previous step.\n",
    "\n",
    "Your output should be a Python list of developer names. Each name should not contain any html tag.\n",
    "\n",
    "**Instructions:**\n",
    "\n",
    "1. Find out the html tag and class names used for the developer names. You can achieve this using Chrome DevTools.\n",
    "\n",
    "1. Use BeautifulSoup to extract all the html elements that contain the developer names.\n",
    "\n",
    "1. Use string manipulation techniques to replace whitespaces and linebreaks (i.e. `\\n`) in the *text* of each html element. Use a list to store the clean names.\n",
    "\n",
    "1. Print the list of names.\n",
    "\n",
    "Your output should look like below:\n",
    "\n",
    "```\n",
    "['trimstray (@trimstray)',\n",
    " 'joewalnes (JoeWalnes)',\n",
    " 'charlax (Charles-AxelDein)',\n",
    " 'ForrestKnight (ForrestKnight)',\n",
    " 'revery-ui (revery-ui)',\n",
    " 'alibaba (Alibaba)',\n",
    " 'Microsoft (Microsoft)',\n",
    " 'github (GitHub)',\n",
    " 'facebook (Facebook)',\n",
    " 'boazsegev (Bo)',\n",
    " 'google (Google)',\n",
    " 'cloudfetch',\n",
    " 'sindresorhus (SindreSorhus)',\n",
    " 'tensorflow',\n",
    " 'apache (TheApacheSoftwareFoundation)',\n",
    " 'DevonCrawford (DevonCrawford)',\n",
    " 'ARMmbed (ArmMbed)',\n",
    " 'vuejs (vuejs)',\n",
    " 'fastai (fast.ai)',\n",
    " 'QiShaoXuan (Qi)',\n",
    " 'joelparkerhenderson (JoelParkerHenderson)',\n",
    " 'torvalds (LinusTorvalds)',\n",
    " 'CyC2018',\n",
    " 'komeiji-satori (神楽坂覚々)',\n",
    " 'script-8']\n",
    " ```"
   ]
  },
  {
   "cell_type": "code",
   "execution_count": 23,
   "metadata": {},
   "outputs": [],
   "source": [
    "#your code"
   ]
  },
  {
   "cell_type": "markdown",
   "metadata": {},
   "source": [
    "#### Display the trending Python repositories in GitHub\n",
    "\n",
    "The steps to solve this problem is similar to the previous one except that you need to find out the repository names instead of developer names."
   ]
  },
  {
   "cell_type": "code",
   "execution_count": 31,
   "metadata": {},
   "outputs": [],
   "source": [
    "# This is the url you will scrape in this exercise\n",
    "url = 'https://github.com/trending/python?since=daily'"
   ]
  },
  {
   "cell_type": "code",
   "execution_count": 32,
   "metadata": {},
   "outputs": [],
   "source": [
    "#your code\n",
    "res=requests.get(url)\n",
    "html=res.text\n",
    "soup2=BeautifulSoup(html,'html.parser')\n"
   ]
  },
  {
   "cell_type": "code",
   "execution_count": 34,
   "metadata": {},
   "outputs": [
    {
     "name": "stdout",
     "output_type": "stream",
     "text": [
      "['deezer/spleeter', 'openai/gpt-2', 'PaddlePaddle/models', '0voice/interview_internal_reference', 'kubernetes-client/python', 'svjan5/GNNs-for-NLP', 'Linzaer/Ultra-Light-Fast-Generic-Face-Detector-1MB', 'huggingface/transformers', 'MalongTech/research-charnet', 'thorn-oss/perception', 'eastlakeside/interpy-zh', 'Azure/azure-cli', 'encode/django-rest-framework', 'wangzheng0822/algo', 'marshmallow-code/marshmallow', 'tensorflow/models', 'momika233/ClamAV_0Day_exploit', 'zihangdai/xlnet', 'sinovation/ZEN', 'shenweichen/DeepCTR', 'google-research/bert', 'geekcomputers/Python', 'facebookresearch/hydra', 'encode/httpx', 'charlesq34/pointnet2']\n"
     ]
    }
   ],
   "source": [
    "repos = []\n",
    "for r in soup2.select('.h3.lh-condensed'):\n",
    "    rep = r.find('a')\n",
    "    if rep:\n",
    "        repos.append(rep.get('href')[1:])\n",
    "print(repos)"
   ]
  },
  {
   "cell_type": "markdown",
   "metadata": {},
   "source": [
    "#### Display all the image links from Walt Disney wikipedia page"
   ]
  },
  {
   "cell_type": "code",
   "execution_count": 46,
   "metadata": {},
   "outputs": [],
   "source": [
    "# This is the url you will scrape in this exercise\n",
    "url = 'https://en.wikipedia.org/wiki/Walt_Disney'"
   ]
  },
  {
   "cell_type": "code",
   "execution_count": 47,
   "metadata": {},
   "outputs": [],
   "source": [
    "#your code\n",
    "res=requests.get(url)\n",
    "html=res.text\n",
    "soup3=BeautifulSoup(html,'html.parser')"
   ]
  },
  {
   "cell_type": "code",
   "execution_count": 53,
   "metadata": {},
   "outputs": [
    {
     "data": {
      "text/html": [
       "<img src=\"//upload.wikimedia.org/wikipedia/commons/thumb/8/87/Walt_Disney_1942_signature.svg/150px-Walt_Disney_1942_signature.svg.png\"/>"
      ],
      "text/plain": [
       "<IPython.core.display.Image object>"
      ]
     },
     "metadata": {},
     "output_type": "display_data"
    }
   ],
   "source": [
    "images = []\n",
    "for i in soup3.select('.image img'):\n",
    "    if i:\n",
    "        images.append(i.get('src'))\n",
    "#print(images)\n",
    "display(Image(url=images[1]))"
   ]
  },
  {
   "cell_type": "markdown",
   "metadata": {},
   "source": [
    "#### Retrieve an arbitary Wikipedia page of \"Python\" and create a list of links on that page"
   ]
  },
  {
   "cell_type": "code",
   "execution_count": 54,
   "metadata": {},
   "outputs": [],
   "source": [
    "# This is the url you will scrape in this exercise\n",
    "url ='https://en.wikipedia.org/wiki/Python' "
   ]
  },
  {
   "cell_type": "code",
   "execution_count": 55,
   "metadata": {},
   "outputs": [],
   "source": [
    "#your code\n",
    "res=requests.get(url)\n",
    "html=res.text\n",
    "soup4=BeautifulSoup(html,'html.parser')"
   ]
  },
  {
   "cell_type": "code",
   "execution_count": 67,
   "metadata": {},
   "outputs": [],
   "source": [
    "links = []\n",
    "for l in soup4.find_all('a'):\n",
    "    href=l.get('href')\n",
    "    if href and href[:4] == \"http\":\n",
    "        links.append(href)\n",
    "#links"
   ]
  },
  {
   "cell_type": "markdown",
   "metadata": {},
   "source": [
    "#### Number of Titles that have changed in the United States Code since its last release point "
   ]
  },
  {
   "cell_type": "code",
   "execution_count": 68,
   "metadata": {},
   "outputs": [],
   "source": [
    "# This is the url you will scrape in this exercise\n",
    "url = 'http://uscode.house.gov/download/download.shtml'"
   ]
  },
  {
   "cell_type": "code",
   "execution_count": 69,
   "metadata": {},
   "outputs": [],
   "source": [
    "#your code\n",
    "res=requests.get(url)\n",
    "html=res.text\n",
    "soup5=BeautifulSoup(html,'html.parser')"
   ]
  },
  {
   "cell_type": "code",
   "execution_count": 83,
   "metadata": {},
   "outputs": [
    {
     "data": {
      "text/plain": [
       "2"
      ]
     },
     "execution_count": 83,
     "metadata": {},
     "output_type": "execute_result"
    }
   ],
   "source": [
    "titles = 0\n",
    "for t in soup5.select('.usctitlechanged'):\n",
    "    titles+=1\n",
    "titles"
   ]
  },
  {
   "cell_type": "markdown",
   "metadata": {},
   "source": [
    "#### A Python list with the top ten FBI's Most Wanted names "
   ]
  },
  {
   "cell_type": "code",
   "execution_count": 85,
   "metadata": {},
   "outputs": [],
   "source": [
    "# This is the url you will scrape in this exercise\n",
    "url = 'https://www.fbi.gov/wanted/topten'"
   ]
  },
  {
   "cell_type": "code",
   "execution_count": 86,
   "metadata": {},
   "outputs": [],
   "source": [
    "#your code \n",
    "res=requests.get(url)\n",
    "html=res.text\n",
    "soup6=BeautifulSoup(html,'html.parser')"
   ]
  },
  {
   "cell_type": "code",
   "execution_count": 98,
   "metadata": {},
   "outputs": [
    {
     "data": {
      "text/plain": [
       "['JASON DEREK BROWN',\n",
       " 'ALEXIS FLORES',\n",
       " 'EUGENE PALMER',\n",
       " 'SANTIAGO VILLALBA MEDEROS',\n",
       " 'RAFAEL CARO-QUINTERO',\n",
       " 'ROBERT WILLIAM FISHER',\n",
       " 'BHADRESHKUMAR CHETANBHAI PATEL',\n",
       " 'ARNOLDO JIMENEZ',\n",
       " 'ALEJANDRO ROSALES CASTILLO',\n",
       " 'YASER ABDEL SAID']"
      ]
     },
     "execution_count": 98,
     "metadata": {},
     "output_type": "execute_result"
    }
   ],
   "source": [
    "names_wanted = []\n",
    "for n in soup6.select('.title'):\n",
    "    name=n.find('a')\n",
    "    if name:\n",
    "        names_wanted.append(name.text)\n",
    "names_wanted[1:]"
   ]
  },
  {
   "cell_type": "markdown",
   "metadata": {},
   "source": [
    "####  20 latest earthquakes info (date, time, latitude, longitude and region name) by the EMSC as a pandas dataframe"
   ]
  },
  {
   "cell_type": "code",
   "execution_count": 242,
   "metadata": {},
   "outputs": [],
   "source": [
    "# This is the url you will scrape in this exercise\n",
    "url = 'https://www.emsc-csem.org/Earthquake/'"
   ]
  },
  {
   "cell_type": "code",
   "execution_count": 243,
   "metadata": {},
   "outputs": [],
   "source": [
    "#your code\n",
    "res=requests.get(url)\n",
    "html=res.text\n",
    "soup7=BeautifulSoup(html,'html.parser')"
   ]
  },
  {
   "cell_type": "code",
   "execution_count": 244,
   "metadata": {},
   "outputs": [],
   "source": [
    "eq=soup7.find_all('table')[3]\n",
    "earthq=eq.text\n",
    "#print(earthq)"
   ]
  },
  {
   "cell_type": "code",
   "execution_count": 245,
   "metadata": {},
   "outputs": [],
   "source": [
    "date=re.findall(r'[0-9]{4}\\-[0-9]{2}\\-[0-9]{2}\\s',earthq)\n",
    "time=re.findall(r'[0-9]{2}\\:[0-9]{2}\\:[0-9]{2}',earthq)\n",
    "latitude=re.findall(r'[0-9]{2}.[0-9]{2}\\s[N|S]',earthq)\n",
    "longitud=re.findall(r'[0-9]{2}.[0-9]{2}\\s[W|E]',earthq)\n",
    "region=re.findall(r\"\\d.\\d\\s[A-Z]+.+\\D\",earthq)\n",
    "reg= [re.sub(\"\\d.\\d\",\"\",r) for r in region] \n",
    "reg=[re.sub(\"[0-9]\",\"\",r) for r in reg]\n",
    "reg=[re.sub(\"M\",\"\",r) for r in reg]"
   ]
  },
  {
   "cell_type": "code",
   "execution_count": 246,
   "metadata": {},
   "outputs": [
    {
     "data": {
      "text/html": [
       "<div>\n",
       "<style scoped>\n",
       "    .dataframe tbody tr th:only-of-type {\n",
       "        vertical-align: middle;\n",
       "    }\n",
       "\n",
       "    .dataframe tbody tr th {\n",
       "        vertical-align: top;\n",
       "    }\n",
       "\n",
       "    .dataframe thead th {\n",
       "        text-align: right;\n",
       "    }\n",
       "</style>\n",
       "<table border=\"1\" class=\"dataframe\">\n",
       "  <thead>\n",
       "    <tr style=\"text-align: right;\">\n",
       "      <th></th>\n",
       "      <th>Date</th>\n",
       "      <th>Time</th>\n",
       "      <th>Longitude</th>\n",
       "      <th>Latitude</th>\n",
       "      <th>Region Name</th>\n",
       "    </tr>\n",
       "  </thead>\n",
       "  <tbody>\n",
       "    <tr>\n",
       "      <th>0</th>\n",
       "      <td>2019-11-07</td>\n",
       "      <td>20:36:54</td>\n",
       "      <td>46.32 N</td>\n",
       "      <td>17.66 W</td>\n",
       "      <td>SWITZERLAND\\n</td>\n",
       "    </tr>\n",
       "    <tr>\n",
       "      <th>1</th>\n",
       "      <td>2019-11-07</td>\n",
       "      <td>20:30:05</td>\n",
       "      <td>46.30 N</td>\n",
       "      <td>13.60 E</td>\n",
       "      <td>SWITZERLAND\\n</td>\n",
       "    </tr>\n",
       "    <tr>\n",
       "      <th>2</th>\n",
       "      <td>2019-11-07</td>\n",
       "      <td>20:24:36</td>\n",
       "      <td>35.83 N</td>\n",
       "      <td>68.90 W</td>\n",
       "      <td>CENTRAL CALIFORNIA\\n</td>\n",
       "    </tr>\n",
       "    <tr>\n",
       "      <th>3</th>\n",
       "      <td>2019-11-07</td>\n",
       "      <td>20:13:59</td>\n",
       "      <td>41.77 N</td>\n",
       "      <td>17.56 W</td>\n",
       "      <td>SOUTHERN ITALY\\n</td>\n",
       "    </tr>\n",
       "    <tr>\n",
       "      <th>4</th>\n",
       "      <td>2019-11-07</td>\n",
       "      <td>20:00:51</td>\n",
       "      <td>23.22 S</td>\n",
       "      <td>69.05 W</td>\n",
       "      <td>ANTOFAGASTA, CHILE\\n</td>\n",
       "    </tr>\n",
       "    <tr>\n",
       "      <th>5</th>\n",
       "      <td>2019-11-07</td>\n",
       "      <td>19:54:14</td>\n",
       "      <td>35.71 N</td>\n",
       "      <td>21.06 W</td>\n",
       "      <td>SOUTHERN CALIFORNIA\\n</td>\n",
       "    </tr>\n",
       "    <tr>\n",
       "      <th>6</th>\n",
       "      <td>2019-11-07</td>\n",
       "      <td>19:13:40</td>\n",
       "      <td>20.48 S</td>\n",
       "      <td>12.48 W</td>\n",
       "      <td>TARAPACA, CHILE\\n</td>\n",
       "    </tr>\n",
       "    <tr>\n",
       "      <th>7</th>\n",
       "      <td>2019-11-07</td>\n",
       "      <td>18:56:03</td>\n",
       "      <td>35.72 N</td>\n",
       "      <td>72.82 W</td>\n",
       "      <td>CENTRAL CALIFORNIA\\n</td>\n",
       "    </tr>\n",
       "    <tr>\n",
       "      <th>8</th>\n",
       "      <td>2019-11-07</td>\n",
       "      <td>18:52:18</td>\n",
       "      <td>37.89 N</td>\n",
       "      <td>55.64 W</td>\n",
       "      <td>UTAH\\n</td>\n",
       "    </tr>\n",
       "    <tr>\n",
       "      <th>9</th>\n",
       "      <td>2019-11-07</td>\n",
       "      <td>18:38:27</td>\n",
       "      <td>46.30 N</td>\n",
       "      <td>86.32 W</td>\n",
       "      <td>SWITZERLAND\\n</td>\n",
       "    </tr>\n",
       "    <tr>\n",
       "      <th>10</th>\n",
       "      <td>2019-11-07</td>\n",
       "      <td>18:35:26</td>\n",
       "      <td>46.32 N</td>\n",
       "      <td>55.05 E</td>\n",
       "      <td>SWITZERLAND\\n</td>\n",
       "    </tr>\n",
       "    <tr>\n",
       "      <th>11</th>\n",
       "      <td>2019-11-07</td>\n",
       "      <td>18:25:00</td>\n",
       "      <td>16.36 S</td>\n",
       "      <td>82.81 W</td>\n",
       "      <td>NEAR COAST OF SOUTHERN PERU\\n</td>\n",
       "    </tr>\n",
       "    <tr>\n",
       "      <th>12</th>\n",
       "      <td>2019-11-07</td>\n",
       "      <td>18:21:12</td>\n",
       "      <td>19.14 N</td>\n",
       "      <td>85.98 W</td>\n",
       "      <td>ISLAND OF HAWAII, HAWAII\\n</td>\n",
       "    </tr>\n",
       "    <tr>\n",
       "      <th>13</th>\n",
       "      <td>2019-11-07</td>\n",
       "      <td>18:16:30</td>\n",
       "      <td>11.30 N</td>\n",
       "      <td>19.29 W</td>\n",
       "      <td>NEAR COAST OF NICARAGUA\\n</td>\n",
       "    </tr>\n",
       "    <tr>\n",
       "      <th>14</th>\n",
       "      <td>2019-11-07</td>\n",
       "      <td>18:00:57</td>\n",
       "      <td>27.03 N</td>\n",
       "      <td>55.02 E</td>\n",
       "      <td>SOUTHERN IRAN\\n</td>\n",
       "    </tr>\n",
       "    <tr>\n",
       "      <th>15</th>\n",
       "      <td>2019-11-07</td>\n",
       "      <td>17:59:30</td>\n",
       "      <td>11.49 N</td>\n",
       "      <td>13.61 E</td>\n",
       "      <td>PANAA-COSTA RICA BORDER REGION\\n</td>\n",
       "    </tr>\n",
       "    <tr>\n",
       "      <th>16</th>\n",
       "      <td>2019-11-07</td>\n",
       "      <td>17:54:30</td>\n",
       "      <td>34.27 N</td>\n",
       "      <td>64.57 W</td>\n",
       "      <td>NICARAGUA\\n</td>\n",
       "    </tr>\n",
       "    <tr>\n",
       "      <th>17</th>\n",
       "      <td>2019-11-07</td>\n",
       "      <td>17:52:17</td>\n",
       "      <td>27.29 N</td>\n",
       "      <td>13.61 E</td>\n",
       "      <td>SANTA BARBARA CHANNEL, CALIF.\\n</td>\n",
       "    </tr>\n",
       "    <tr>\n",
       "      <th>18</th>\n",
       "      <td>2019-11-07</td>\n",
       "      <td>17:48:50</td>\n",
       "      <td>41.77 N</td>\n",
       "      <td>45.45 E</td>\n",
       "      <td>SOUTHERN IRAN\\n</td>\n",
       "    </tr>\n",
       "    <tr>\n",
       "      <th>19</th>\n",
       "      <td>2019-11-07</td>\n",
       "      <td>17:47:53</td>\n",
       "      <td>18.71 N</td>\n",
       "      <td>77.18 W</td>\n",
       "      <td>SOUTHERN ITALY\\n</td>\n",
       "    </tr>\n",
       "  </tbody>\n",
       "</table>\n",
       "</div>"
      ],
      "text/plain": [
       "           Date      Time Longitude Latitude  \\\n",
       "0   2019-11-07   20:36:54   46.32 N  17.66 W   \n",
       "1   2019-11-07   20:30:05   46.30 N  13.60 E   \n",
       "2   2019-11-07   20:24:36   35.83 N  68.90 W   \n",
       "3   2019-11-07   20:13:59   41.77 N  17.56 W   \n",
       "4   2019-11-07   20:00:51   23.22 S  69.05 W   \n",
       "5   2019-11-07   19:54:14   35.71 N  21.06 W   \n",
       "6   2019-11-07   19:13:40   20.48 S  12.48 W   \n",
       "7   2019-11-07   18:56:03   35.72 N  72.82 W   \n",
       "8   2019-11-07   18:52:18   37.89 N  55.64 W   \n",
       "9   2019-11-07   18:38:27   46.30 N  86.32 W   \n",
       "10  2019-11-07   18:35:26   46.32 N  55.05 E   \n",
       "11  2019-11-07   18:25:00   16.36 S  82.81 W   \n",
       "12  2019-11-07   18:21:12   19.14 N  85.98 W   \n",
       "13  2019-11-07   18:16:30   11.30 N  19.29 W   \n",
       "14  2019-11-07   18:00:57   27.03 N  55.02 E   \n",
       "15  2019-11-07   17:59:30   11.49 N  13.61 E   \n",
       "16  2019-11-07   17:54:30   34.27 N  64.57 W   \n",
       "17  2019-11-07   17:52:17   27.29 N  13.61 E   \n",
       "18  2019-11-07   17:48:50   41.77 N  45.45 E   \n",
       "19  2019-11-07   17:47:53   18.71 N  77.18 W   \n",
       "\n",
       "                          Region Name  \n",
       "0                       SWITZERLAND\\n  \n",
       "1                       SWITZERLAND\\n  \n",
       "2                CENTRAL CALIFORNIA\\n  \n",
       "3                    SOUTHERN ITALY\\n  \n",
       "4                ANTOFAGASTA, CHILE\\n  \n",
       "5               SOUTHERN CALIFORNIA\\n  \n",
       "6                   TARAPACA, CHILE\\n  \n",
       "7                CENTRAL CALIFORNIA\\n  \n",
       "8                              UTAH\\n  \n",
       "9                       SWITZERLAND\\n  \n",
       "10                      SWITZERLAND\\n  \n",
       "11      NEAR COAST OF SOUTHERN PERU\\n  \n",
       "12         ISLAND OF HAWAII, HAWAII\\n  \n",
       "13          NEAR COAST OF NICARAGUA\\n  \n",
       "14                    SOUTHERN IRAN\\n  \n",
       "15   PANAA-COSTA RICA BORDER REGION\\n  \n",
       "16                        NICARAGUA\\n  \n",
       "17    SANTA BARBARA CHANNEL, CALIF.\\n  \n",
       "18                    SOUTHERN IRAN\\n  \n",
       "19                   SOUTHERN ITALY\\n  "
      ]
     },
     "execution_count": 246,
     "metadata": {},
     "output_type": "execute_result"
    }
   ],
   "source": [
    "datos=list(zip(date,time,latitude,longitud,reg))\n",
    "columnas=['Date','Time','Longitude','Latitude','Region Name']\n",
    "df=pd.DataFrame(datos,columns=columnas)\n",
    "df.head(20)"
   ]
  },
  {
   "cell_type": "markdown",
   "metadata": {},
   "source": [
    "#### Display the date, days, title, city, country of next 25 hackathon events as a Pandas dataframe table"
   ]
  },
  {
   "cell_type": "code",
   "execution_count": 247,
   "metadata": {},
   "outputs": [],
   "source": [
    "# This is the url you will scrape in this exercise\n",
    "url ='https://hackevents.co/hackathons'"
   ]
  },
  {
   "cell_type": "code",
   "execution_count": 249,
   "metadata": {},
   "outputs": [],
   "source": [
    "#your code\n"
   ]
  },
  {
   "cell_type": "markdown",
   "metadata": {},
   "source": [
    "#### Count number of tweets by a given Twitter account."
   ]
  },
  {
   "cell_type": "markdown",
   "metadata": {},
   "source": [
    "You will need to include a ***try/except block*** for account names not found. \n",
    "<br>***Hint:*** the program should count the number of tweets for any provided account"
   ]
  },
  {
   "cell_type": "code",
   "execution_count": 252,
   "metadata": {},
   "outputs": [],
   "source": [
    "# This is the url you will scrape in this exercise \n",
    "# You will need to add the account credentials to this url\n",
    "url = 'https://twitter.com/mariapombo22'"
   ]
  },
  {
   "cell_type": "code",
   "execution_count": 253,
   "metadata": {},
   "outputs": [],
   "source": [
    "#your code\n",
    "try:\n",
    "    res=requests.get(url)\n",
    "    html=res.text\n",
    "    soup8=BeautifulSoup(html,'html.parser')\n",
    "except:\n",
    "    raise NameError(\"Not correct username.\")"
   ]
  },
  {
   "cell_type": "code",
   "execution_count": 264,
   "metadata": {},
   "outputs": [
    {
     "name": "stdout",
     "output_type": "stream",
     "text": [
      "4.578\n",
      "            \n"
     ]
    }
   ],
   "source": [
    "t=soup8.select('.ProfileNav-value')[0]\n",
    "print(t.text)"
   ]
  },
  {
   "cell_type": "markdown",
   "metadata": {},
   "source": [
    "#### Number of followers of a given twitter account"
   ]
  },
  {
   "cell_type": "markdown",
   "metadata": {},
   "source": [
    "You will need to include a ***try/except block*** in case account/s name not found. \n",
    "<br>***Hint:*** the program should count the followers for any provided account"
   ]
  },
  {
   "cell_type": "code",
   "execution_count": 266,
   "metadata": {},
   "outputs": [],
   "source": [
    "# This is the url you will scrape in this exercise \n",
    "# You will need to add the account credentials to this url\n",
    "url = 'https://twitter.com/mariapombo22'"
   ]
  },
  {
   "cell_type": "code",
   "execution_count": 267,
   "metadata": {},
   "outputs": [],
   "source": [
    "#your code\n",
    "try:\n",
    "    res=requests.get(url)\n",
    "    html=res.text\n",
    "    soup9=BeautifulSoup(html,'html.parser')\n",
    "except:\n",
    "    raise NameError(\"Not correct username.\")"
   ]
  },
  {
   "cell_type": "code",
   "execution_count": 271,
   "metadata": {},
   "outputs": [
    {
     "name": "stdout",
     "output_type": "stream",
     "text": [
      "22,3 mil\n"
     ]
    }
   ],
   "source": [
    "t=soup9.select('.ProfileNav-value')[2]\n",
    "print(t.text)"
   ]
  },
  {
   "cell_type": "markdown",
   "metadata": {},
   "source": [
    "#### List all language names and number of related articles in the order they appear in wikipedia.org"
   ]
  },
  {
   "cell_type": "code",
   "execution_count": 272,
   "metadata": {},
   "outputs": [],
   "source": [
    "# This is the url you will scrape in this exercise\n",
    "url = 'https://www.wikipedia.org/'"
   ]
  },
  {
   "cell_type": "code",
   "execution_count": 273,
   "metadata": {},
   "outputs": [],
   "source": [
    "#your code\n",
    "res=requests.get(url)\n",
    "html=res.text\n",
    "soup10=BeautifulSoup(html,'html.parser')"
   ]
  },
  {
   "cell_type": "code",
   "execution_count": 281,
   "metadata": {},
   "outputs": [
    {
     "data": {
      "text/plain": [
       "[]"
      ]
     },
     "execution_count": 281,
     "metadata": {},
     "output_type": "execute_result"
    }
   ],
   "source": [
    "articles = []\n",
    "for art in soup10.find_all('a'):\n",
    "    name = art.find('title')\n",
    "    if name:\n",
    "        articles.append({\n",
    "            \"name\":name.text,\n",
    "        })\n",
    "articles"
   ]
  },
  {
   "cell_type": "code",
   "execution_count": 300,
   "metadata": {},
   "outputs": [
    {
     "data": {
      "text/plain": [
       "['English â\\x80\\x94 Wikipedia â\\x80\\x94 The Free Encyclopedia',\n",
       " 'EspaÃ±ol â\\x80\\x94 Wikipedia â\\x80\\x94 La enciclopedia libre',\n",
       " 'Nihongo â\\x80\\x94 ã\\x82¦ã\\x82£ã\\x82\\xadã\\x83\\x9aã\\x83\\x87ã\\x82£ã\\x82¢ â\\x80\\x94 ã\\x83\\x95ã\\x83ªã\\x83¼ç\\x99¾ç§\\x91äº\\x8bå\\x85¸',\n",
       " 'Deutsch â\\x80\\x94 Wikipedia â\\x80\\x94 Die freie EnzyklopÃ¤die',\n",
       " 'Russkiy â\\x80\\x94 Ð\\x92Ð¸ÐºÐ¸Ð¿ÐµÐ´Ð¸Ñ\\x8f â\\x80\\x94 Ð¡Ð²Ð¾Ð±Ð¾Ð´Ð½Ð°Ñ\\x8f Ñ\\x8dÐ½Ñ\\x86Ð¸ÐºÐ»Ð¾Ð¿ÐµÐ´Ð¸Ñ\\x8f',\n",
       " 'FranÃ§ais â\\x80\\x94 WikipÃ©dia â\\x80\\x94 Lâ\\x80\\x99encyclopÃ©die libre',\n",
       " \"Italiano â\\x80\\x94 Wikipedia â\\x80\\x94 L'enciclopedia libera\",\n",
       " 'ZhÅ\\x8dngwÃ©n â\\x80\\x94 ç¶\\xadå\\x9fºç\\x99¾ç§\\x91 â\\x80\\x94 è\\x87ªç\\x94±ç\\x9a\\x84ç\\x99¾ç§\\x91å\\x85¨æ\\x9b¸',\n",
       " 'PortuguÃªs â\\x80\\x94 WikipÃ©dia â\\x80\\x94 A enciclopÃ©dia livre',\n",
       " 'Polski â\\x80\\x94 Wikipedia â\\x80\\x94 Wolna encyklopedia',\n",
       " 'English',\n",
       " 'Nihongo',\n",
       " 'Russkiy',\n",
       " 'ZhÅ\\x8dngwÃ©n',\n",
       " 'Al-Ê¿ArabÄ«yah',\n",
       " 'BÇ\\x8elgarski',\n",
       " 'Belaruskaya (Akademichnaya)',\n",
       " 'Ä\\x8deÅ¡tina',\n",
       " 'EllÄ«nikÃ¡',\n",
       " 'FÄ\\x81rsi',\n",
       " 'Hayeren',\n",
       " 'HindÄ«',\n",
       " 'Ê¿Ivrit',\n",
       " 'Kartuli',\n",
       " 'Makedonski',\n",
       " 'NoxÃ§iyn',\n",
       " 'Saesneg',\n",
       " 'suomi',\n",
       " 'Tamiá¸»',\n",
       " 'Phasa Thai',\n",
       " 'TÃ¼rkce',\n",
       " 'TÃ¼rkÃ§e',\n",
       " 'Ukrayinsâ\\x80\\x99ka',\n",
       " 'Urdu',\n",
       " 'Hangugeo',\n",
       " 'Ä\\x80mariÃ±Ã±Ä\\x81',\n",
       " 'Bangla',\n",
       " 'BaÅ\\x9fqortsa',\n",
       " 'Belaruskaya (TaraÅ¡kievica)',\n",
       " 'Bishnupriya Manipuri',\n",
       " 'Ä\\x8cÄ\\x83vaÅ¡la',\n",
       " 'Gujarati',\n",
       " 'Iron Ã\\x86vzag',\n",
       " 'Kannada',\n",
       " 'KurdÃ®y NawendÃ®',\n",
       " 'KyrgyzÄ\\x8da',\n",
       " 'Kyryk Mary',\n",
       " 'MaithilÄ«',\n",
       " 'Malayalam',\n",
       " 'Man4jin4 / WÃ©nyÃ¡n',\n",
       " 'Marathi',\n",
       " 'Margaluri',\n",
       " 'Maá¹£rÄ«',\n",
       " 'MÃ¤zeruni',\n",
       " 'Ming-deng-ngu',\n",
       " 'Mongol',\n",
       " 'Myanmarsar',\n",
       " 'Nepal Bhasa',\n",
       " 'NepÄ\\x81lÄ«',\n",
       " 'Olyk Marij',\n",
       " 'Oá¹\\x9biÄ\\x81',\n",
       " 'PaÃ±jÄ\\x81bÄ« (GurmukhÄ«)',\n",
       " 'PaÃ±jÄ\\x81bÄ« (ShÄ\\x81hmukhÄ«)',\n",
       " 'PaÊ\\x82to',\n",
       " 'Saá¹\\x83ská¹\\x9btam',\n",
       " 'Saxa Tyla',\n",
       " 'Siá¹\\x83hala',\n",
       " 'SindhÄ«',\n",
       " 'Telugu',\n",
       " 'TojikÄ«',\n",
       " 'WÃº YÇ\\x94',\n",
       " 'YidiÅ¡',\n",
       " 'Yuht YÃºh / Jyut6 jyu5',\n",
       " 'Zazaki',\n",
       " 'Adighabze',\n",
       " 'Aá¹\\x97sua',\n",
       " 'Arevmdahayeren',\n",
       " 'Ä\\x80tÃ»rÄ\\x81yÃ¢',\n",
       " 'Avar',\n",
       " 'BhÅ\\x8djapurÄ«',\n",
       " 'Bod Skad',\n",
       " 'Buryad',\n",
       " 'Erzjanj',\n",
       " 'GilÉ\\x99ki',\n",
       " 'Gon ua',\n",
       " 'HalÊ¹mg',\n",
       " 'PhÃ©asa KhmÃ©r',\n",
       " 'Komi',\n",
       " 'Phaasaa Laao',\n",
       " 'Ladino',\n",
       " 'LakË\\x90u',\n",
       " 'Lezgi',\n",
       " 'LÃ¶riyÃ©-Å\\xa0omÄ\\x81lÄ«',\n",
       " 'MokÅ¡enj',\n",
       " 'Ã\\x94xÃ´miya',\n",
       " 'PÄ\\x81á¸·i',\n",
       " 'Perem Komi',\n",
       " 'QaraÃ§ayâ\\x80\\x93Malqar',\n",
       " 'Rusinâ\\x80\\x99skyj Yazyk',\n",
       " 'Tyva dyl',\n",
       " 'Udmurt',\n",
       " 'Þ\\x87Þ¨Þ\\x82Þ\\x8eÞ¨Þ\\x83Þ\\xadÞ\\x90Þ¨',\n",
       " 'Gutisk',\n",
       " 'Kashmiri',\n",
       " 'PontiakÃ¡',\n",
       " 'Rdzong-Kha',\n",
       " 'SlovÄ\\x9bnÄ\\xadskÅ\\xad',\n",
       " 'TigriÃ±Ã±Ä\\x81',\n",
       " 'Tsalagi',\n",
       " \"N'Ko\"]"
      ]
     },
     "execution_count": 300,
     "metadata": {},
     "output_type": "execute_result"
    }
   ],
   "source": [
    "#a=soup10.find_all('a')\n",
    "lang=[]\n",
    "for art in soup10.find_all('a'):\n",
    "    l=art.get('title')\n",
    "    if l:\n",
    "        lang.append(l)\n",
    "lang\n"
   ]
  },
  {
   "cell_type": "markdown",
   "metadata": {},
   "source": [
    "#### A list with the different kind of datasets available in data.gov.uk "
   ]
  },
  {
   "cell_type": "code",
   "execution_count": null,
   "metadata": {},
   "outputs": [],
   "source": [
    "# This is the url you will scrape in this exercise\n",
    "url = 'https://data.gov.uk/'"
   ]
  },
  {
   "cell_type": "code",
   "execution_count": null,
   "metadata": {},
   "outputs": [],
   "source": [
    "#your code "
   ]
  },
  {
   "cell_type": "markdown",
   "metadata": {},
   "source": [
    "#### Top 10 languages by number of native speakers stored in a Pandas Dataframe"
   ]
  },
  {
   "cell_type": "code",
   "execution_count": null,
   "metadata": {},
   "outputs": [],
   "source": [
    "# This is the url you will scrape in this exercise\n",
    "url = 'https://en.wikipedia.org/wiki/List_of_languages_by_number_of_native_speakers'"
   ]
  },
  {
   "cell_type": "code",
   "execution_count": null,
   "metadata": {},
   "outputs": [],
   "source": [
    "#your code"
   ]
  },
  {
   "cell_type": "markdown",
   "metadata": {},
   "source": [
    "### BONUS QUESTIONS"
   ]
  },
  {
   "cell_type": "markdown",
   "metadata": {},
   "source": [
    "#### Scrape a certain number of tweets of a given Twitter account."
   ]
  },
  {
   "cell_type": "code",
   "execution_count": null,
   "metadata": {},
   "outputs": [],
   "source": [
    "# This is the url you will scrape in this exercise \n",
    "# You will need to add the account credentials to this url\n",
    "url = 'https://twitter.com/'"
   ]
  },
  {
   "cell_type": "code",
   "execution_count": null,
   "metadata": {},
   "outputs": [],
   "source": [
    "# your code"
   ]
  },
  {
   "cell_type": "markdown",
   "metadata": {},
   "source": [
    "#### IMDB's Top 250 data (movie name, Initial release, director name and stars) as a pandas dataframe"
   ]
  },
  {
   "cell_type": "code",
   "execution_count": null,
   "metadata": {},
   "outputs": [],
   "source": [
    "# This is the url you will scrape in this exercise \n",
    "url = 'https://www.imdb.com/chart/top'"
   ]
  },
  {
   "cell_type": "code",
   "execution_count": null,
   "metadata": {},
   "outputs": [],
   "source": [
    "# your code"
   ]
  },
  {
   "cell_type": "markdown",
   "metadata": {},
   "source": [
    "#### Movie name, year and a brief summary of the top 10 random movies (IMDB) as a pandas dataframe."
   ]
  },
  {
   "cell_type": "code",
   "execution_count": null,
   "metadata": {},
   "outputs": [],
   "source": [
    "#This is the url you will scrape in this exercise\n",
    "url = 'http://www.imdb.com/chart/top'"
   ]
  },
  {
   "cell_type": "code",
   "execution_count": null,
   "metadata": {},
   "outputs": [],
   "source": [
    "#your code"
   ]
  },
  {
   "cell_type": "markdown",
   "metadata": {},
   "source": [
    "#### Find the live weather report (temperature, wind speed, description and weather) of a given city."
   ]
  },
  {
   "cell_type": "code",
   "execution_count": null,
   "metadata": {},
   "outputs": [],
   "source": [
    "#https://openweathermap.org/current\n",
    "city = city=input('Enter the city:')\n",
    "url = 'http://api.openweathermap.org/data/2.5/weather?'+'q='+city+'&APPID=b35975e18dc93725acb092f7272cc6b8&units=metric'"
   ]
  },
  {
   "cell_type": "code",
   "execution_count": null,
   "metadata": {},
   "outputs": [],
   "source": [
    "# your code"
   ]
  },
  {
   "cell_type": "markdown",
   "metadata": {},
   "source": [
    "#### Book name,price and stock availability as a pandas dataframe."
   ]
  },
  {
   "cell_type": "code",
   "execution_count": null,
   "metadata": {},
   "outputs": [],
   "source": [
    "# This is the url you will scrape in this exercise. \n",
    "# It is a fictional bookstore created to be scraped. \n",
    "url = 'http://books.toscrape.com/'"
   ]
  },
  {
   "cell_type": "code",
   "execution_count": null,
   "metadata": {},
   "outputs": [],
   "source": [
    "#your code"
   ]
  }
 ],
 "metadata": {
  "kernelspec": {
   "display_name": "Python 3",
   "language": "python",
   "name": "python3"
  },
  "language_info": {
   "codemirror_mode": {
    "name": "ipython",
    "version": 3
   },
   "file_extension": ".py",
   "mimetype": "text/x-python",
   "name": "python",
   "nbconvert_exporter": "python",
   "pygments_lexer": "ipython3",
   "version": "3.7.4"
  }
 },
 "nbformat": 4,
 "nbformat_minor": 2
}
