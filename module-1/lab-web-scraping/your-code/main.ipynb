{
 "cells": [
  {
   "cell_type": "markdown",
   "metadata": {},
   "source": [
    "# Web Scraping Lab\n",
    "\n",
    "You will find in this notebook some scrapy exercises to practise your scraping skills.\n",
    "\n",
    "**Tips:**\n",
    "\n",
    "- Check the response status code for each request to ensure you have obtained the intended contennt.\n",
    "- Print the response text in each request to understand the kind of info you are getting and its format.\n",
    "- Check for patterns in the response text to extract the data/info requested in each question.\n",
    "- Visit each url and take a look at its source through Chrome DevTools. You'll need to identify the html tags, special class names etc. used for the html content you are expected to extract."
   ]
  },
  {
   "cell_type": "markdown",
   "metadata": {},
   "source": [
    "- [Requests library](http://docs.python-requests.org/en/master/#the-user-guide) documentation \n",
    "- [Beautiful Soup Doc](https://www.crummy.com/software/BeautifulSoup/bs4/doc/)\n",
    "- [Urllib](https://docs.python.org/3/library/urllib.html#module-urllib)\n",
    "- [re lib](https://docs.python.org/3/library/re.html)\n",
    "- [lxml lib](https://lxml.de/)\n",
    "- [Scrapy](https://scrapy.org/)\n",
    "- [List of HTTP status codes](https://en.wikipedia.org/wiki/List_of_HTTP_status_codes)\n",
    "- [HTML basics](http://www.simplehtmlguide.com/cheatsheet.php)\n",
    "- [CSS basics](https://www.cssbasics.com/#page_start)"
   ]
  },
  {
   "cell_type": "markdown",
   "metadata": {},
   "source": [
    "#### Below are the libraries and modules you may need. `requests`,  `BeautifulSoup` and `pandas` are imported for you. If you prefer to use additional libraries feel free to uncomment them."
   ]
  },
  {
   "cell_type": "code",
   "execution_count": 49,
   "metadata": {},
   "outputs": [],
   "source": [
    "import requests\n",
    "from bs4 import BeautifulSoup\n",
    "import pandas as pd\n",
    "# from pprint import pprint\n",
    "# from lxml import html\n",
    "# from lxml.html import fromstring\n",
    "# import urllib.request\n",
    "# from urllib.request import urlopen\n",
    "# import random\n",
    "import re\n",
    "# import scrapy\n",
    "from IPython.display import Image\n",
    "from IPython.core.display import HTML "
   ]
  },
  {
   "cell_type": "markdown",
   "metadata": {},
   "source": [
    "#### Download, parse (using BeautifulSoup), and print the content from the Trending Developers page from GitHub:"
   ]
  },
  {
   "cell_type": "code",
   "execution_count": 11,
   "metadata": {},
   "outputs": [],
   "source": [
    "# This is the url you will scrape in this exercise\n",
    "url = 'https://github.com/trending/developers?since=weekly'"
   ]
  },
  {
   "cell_type": "code",
   "execution_count": 16,
   "metadata": {},
   "outputs": [],
   "source": [
    "#your code\n",
    "res=requests.get(url)\n",
    "html=res.text\n",
    "soup=BeautifulSoup(html,'html.parser')\n",
    "\n",
    "\n"
   ]
  },
  {
   "cell_type": "code",
   "execution_count": 22,
   "metadata": {},
   "outputs": [
    {
     "name": "stdout",
     "output_type": "stream",
     "text": [
      "[{'nombre': 'Robert Mosolgo', 'user': 'rmosolgo'}, {'nombre': 'Vinayak Mehta', 'user': 'vinayak-mehta'}, {'nombre': 'Piotrek Witek', 'user': 'piotrwitek'}, {'nombre': 'Liyas Thomas', 'user': 'liyasthomas'}, {'nombre': 'Tomoki Hayashi', 'user': 'kan-bayashi'}, {'nombre': 'Darío Kondratiuk', 'user': 'kblok'}, {'nombre': 'Asim Aslam', 'user': 'asim'}, {'nombre': 'Jared Palmer', 'user': 'jaredpalmer'}, {'nombre': 'Satyajit Sahoo', 'user': 'satya164'}, {'nombre': 'Mark Erikson', 'user': 'markerikson'}, {'nombre': 'Julien Danjou', 'user': 'jd'}, {'nombre': 'Klaus Post', 'user': 'klauspost'}, {'nombre': 'Felix Angelov', 'user': 'felangel'}, {'nombre': 'Jonah Williams', 'user': 'jonahwilliams'}, {'nombre': 'Tejas Kumar', 'user': 'TejasQ'}, {'nombre': 'Evan Bacon', 'user': 'EvanBacon'}, {'nombre': 'Ross A. Baker', 'user': 'rossabaker'}, {'nombre': 'Matt Holt', 'user': 'mholt'}, {'nombre': 'chencheng (云谦)', 'user': 'sorrycc'}, {'nombre': 'Arjay Angeles', 'user': 'yajra'}, {'nombre': 'Takafumi Arakaki', 'user': 'tkf'}, {'nombre': 'Kishikawa Katsumi', 'user': 'kishikawakatsumi'}, {'nombre': 'Ives van Hoorne', 'user': 'CompuIves'}, {'nombre': 'Paul DeMarco', 'user': 'pauldemarco'}, {'nombre': 'Mitchell Hashimoto', 'user': 'mitchellh'}]\n"
     ]
    }
   ],
   "source": [
    "trending = []\n",
    "for tag in soup.select('.h3.lh-condensed'):\n",
    "    name = tag.find('a')\n",
    "    if name:\n",
    "        \n",
    "        trending.append({\n",
    "            \"nombre\":name.text.strip(),\n",
    "            \"user\": name.get('href')[1:]\n",
    "        })\n",
    "print(trending)"
   ]
  },
  {
   "cell_type": "markdown",
   "metadata": {},
   "source": [
    "#### Display the names of the trending developers retrieved in the previous step.\n",
    "\n",
    "Your output should be a Python list of developer names. Each name should not contain any html tag.\n",
    "\n",
    "**Instructions:**\n",
    "\n",
    "1. Find out the html tag and class names used for the developer names. You can achieve this using Chrome DevTools.\n",
    "\n",
    "1. Use BeautifulSoup to extract all the html elements that contain the developer names.\n",
    "\n",
    "1. Use string manipulation techniques to replace whitespaces and linebreaks (i.e. `\\n`) in the *text* of each html element. Use a list to store the clean names.\n",
    "\n",
    "1. Print the list of names.\n",
    "\n",
    "Your output should look like below:\n",
    "\n",
    "```\n",
    "['trimstray (@trimstray)',\n",
    " 'joewalnes (JoeWalnes)',\n",
    " 'charlax (Charles-AxelDein)',\n",
    " 'ForrestKnight (ForrestKnight)',\n",
    " 'revery-ui (revery-ui)',\n",
    " 'alibaba (Alibaba)',\n",
    " 'Microsoft (Microsoft)',\n",
    " 'github (GitHub)',\n",
    " 'facebook (Facebook)',\n",
    " 'boazsegev (Bo)',\n",
    " 'google (Google)',\n",
    " 'cloudfetch',\n",
    " 'sindresorhus (SindreSorhus)',\n",
    " 'tensorflow',\n",
    " 'apache (TheApacheSoftwareFoundation)',\n",
    " 'DevonCrawford (DevonCrawford)',\n",
    " 'ARMmbed (ArmMbed)',\n",
    " 'vuejs (vuejs)',\n",
    " 'fastai (fast.ai)',\n",
    " 'QiShaoXuan (Qi)',\n",
    " 'joelparkerhenderson (JoelParkerHenderson)',\n",
    " 'torvalds (LinusTorvalds)',\n",
    " 'CyC2018',\n",
    " 'komeiji-satori (神楽坂覚々)',\n",
    " 'script-8']\n",
    " ```"
   ]
  },
  {
   "cell_type": "code",
   "execution_count": 23,
   "metadata": {},
   "outputs": [],
   "source": [
    "#your code"
   ]
  },
  {
   "cell_type": "markdown",
   "metadata": {},
   "source": [
    "#### Display the trending Python repositories in GitHub\n",
    "\n",
    "The steps to solve this problem is similar to the previous one except that you need to find out the repository names instead of developer names."
   ]
  },
  {
   "cell_type": "code",
   "execution_count": 31,
   "metadata": {},
   "outputs": [],
   "source": [
    "# This is the url you will scrape in this exercise\n",
    "url = 'https://github.com/trending/python?since=daily'"
   ]
  },
  {
   "cell_type": "code",
   "execution_count": 32,
   "metadata": {},
   "outputs": [],
   "source": [
    "#your code\n",
    "res=requests.get(url)\n",
    "html=res.text\n",
    "soup2=BeautifulSoup(html,'html.parser')\n"
   ]
  },
  {
   "cell_type": "code",
   "execution_count": 34,
   "metadata": {},
   "outputs": [
    {
     "name": "stdout",
     "output_type": "stream",
     "text": [
      "['deezer/spleeter', 'openai/gpt-2', 'PaddlePaddle/models', '0voice/interview_internal_reference', 'kubernetes-client/python', 'svjan5/GNNs-for-NLP', 'Linzaer/Ultra-Light-Fast-Generic-Face-Detector-1MB', 'huggingface/transformers', 'MalongTech/research-charnet', 'thorn-oss/perception', 'eastlakeside/interpy-zh', 'Azure/azure-cli', 'encode/django-rest-framework', 'wangzheng0822/algo', 'marshmallow-code/marshmallow', 'tensorflow/models', 'momika233/ClamAV_0Day_exploit', 'zihangdai/xlnet', 'sinovation/ZEN', 'shenweichen/DeepCTR', 'google-research/bert', 'geekcomputers/Python', 'facebookresearch/hydra', 'encode/httpx', 'charlesq34/pointnet2']\n"
     ]
    }
   ],
   "source": [
    "repos = []\n",
    "for r in soup2.select('.h3.lh-condensed'):\n",
    "    rep = r.find('a')\n",
    "    if rep:\n",
    "        repos.append(rep.get('href')[1:])\n",
    "print(repos)"
   ]
  },
  {
   "cell_type": "markdown",
   "metadata": {},
   "source": [
    "#### Display all the image links from Walt Disney wikipedia page"
   ]
  },
  {
   "cell_type": "code",
   "execution_count": 46,
   "metadata": {},
   "outputs": [],
   "source": [
    "# This is the url you will scrape in this exercise\n",
    "url = 'https://en.wikipedia.org/wiki/Walt_Disney'"
   ]
  },
  {
   "cell_type": "code",
   "execution_count": 47,
   "metadata": {},
   "outputs": [],
   "source": [
    "#your code\n",
    "res=requests.get(url)\n",
    "html=res.text\n",
    "soup3=BeautifulSoup(html,'html.parser')"
   ]
  },
  {
   "cell_type": "code",
   "execution_count": 53,
   "metadata": {},
   "outputs": [
    {
     "data": {
      "text/html": [
       "<img src=\"//upload.wikimedia.org/wikipedia/commons/thumb/8/87/Walt_Disney_1942_signature.svg/150px-Walt_Disney_1942_signature.svg.png\"/>"
      ],
      "text/plain": [
       "<IPython.core.display.Image object>"
      ]
     },
     "metadata": {},
     "output_type": "display_data"
    }
   ],
   "source": [
    "images = []\n",
    "for i in soup3.select('.image img'):\n",
    "    if i:\n",
    "        images.append(i.get('src'))\n",
    "#print(images)\n",
    "display(Image(url=images[1]))"
   ]
  },
  {
   "cell_type": "markdown",
   "metadata": {},
   "source": [
    "#### Retrieve an arbitary Wikipedia page of \"Python\" and create a list of links on that page"
   ]
  },
  {
   "cell_type": "code",
   "execution_count": 54,
   "metadata": {},
   "outputs": [],
   "source": [
    "# This is the url you will scrape in this exercise\n",
    "url ='https://en.wikipedia.org/wiki/Python' "
   ]
  },
  {
   "cell_type": "code",
   "execution_count": 55,
   "metadata": {},
   "outputs": [],
   "source": [
    "#your code\n",
    "res=requests.get(url)\n",
    "html=res.text\n",
    "soup4=BeautifulSoup(html,'html.parser')"
   ]
  },
  {
   "cell_type": "code",
   "execution_count": 67,
   "metadata": {},
   "outputs": [],
   "source": [
    "links = []\n",
    "for l in soup4.find_all('a'):\n",
    "    href=l.get('href')\n",
    "    if href and href[:4] == \"http\":\n",
    "        links.append(href)\n",
    "#links"
   ]
  },
  {
   "cell_type": "markdown",
   "metadata": {},
   "source": [
    "#### Number of Titles that have changed in the United States Code since its last release point "
   ]
  },
  {
   "cell_type": "code",
   "execution_count": 68,
   "metadata": {},
   "outputs": [],
   "source": [
    "# This is the url you will scrape in this exercise\n",
    "url = 'http://uscode.house.gov/download/download.shtml'"
   ]
  },
  {
   "cell_type": "code",
   "execution_count": 69,
   "metadata": {},
   "outputs": [],
   "source": [
    "#your code\n",
    "res=requests.get(url)\n",
    "html=res.text\n",
    "soup5=BeautifulSoup(html,'html.parser')"
   ]
  },
  {
   "cell_type": "code",
   "execution_count": 83,
   "metadata": {},
   "outputs": [
    {
     "data": {
      "text/plain": [
       "2"
      ]
     },
     "execution_count": 83,
     "metadata": {},
     "output_type": "execute_result"
    }
   ],
   "source": [
    "titles = 0\n",
    "for t in soup5.select('.usctitlechanged'):\n",
    "    titles+=1\n",
    "titles"
   ]
  },
  {
   "cell_type": "markdown",
   "metadata": {},
   "source": [
    "#### A Python list with the top ten FBI's Most Wanted names "
   ]
  },
  {
   "cell_type": "code",
   "execution_count": 85,
   "metadata": {},
   "outputs": [],
   "source": [
    "# This is the url you will scrape in this exercise\n",
    "url = 'https://www.fbi.gov/wanted/topten'"
   ]
  },
  {
   "cell_type": "code",
   "execution_count": 86,
   "metadata": {},
   "outputs": [],
   "source": [
    "#your code \n",
    "res=requests.get(url)\n",
    "html=res.text\n",
    "soup6=BeautifulSoup(html,'html.parser')"
   ]
  },
  {
   "cell_type": "code",
   "execution_count": 98,
   "metadata": {},
   "outputs": [
    {
     "data": {
      "text/plain": [
       "['JASON DEREK BROWN',\n",
       " 'ALEXIS FLORES',\n",
       " 'EUGENE PALMER',\n",
       " 'SANTIAGO VILLALBA MEDEROS',\n",
       " 'RAFAEL CARO-QUINTERO',\n",
       " 'ROBERT WILLIAM FISHER',\n",
       " 'BHADRESHKUMAR CHETANBHAI PATEL',\n",
       " 'ARNOLDO JIMENEZ',\n",
       " 'ALEJANDRO ROSALES CASTILLO',\n",
       " 'YASER ABDEL SAID']"
      ]
     },
     "execution_count": 98,
     "metadata": {},
     "output_type": "execute_result"
    }
   ],
   "source": [
    "names_wanted = []\n",
    "for n in soup6.select('.title'):\n",
    "    name=n.find('a')\n",
    "    if name:\n",
    "        names_wanted.append(name.text)\n",
    "names_wanted[1:]"
   ]
  },
  {
   "cell_type": "markdown",
   "metadata": {},
   "source": [
    "####  20 latest earthquakes info (date, time, latitude, longitude and region name) by the EMSC as a pandas dataframe"
   ]
  },
  {
   "cell_type": "code",
   "execution_count": 99,
   "metadata": {},
   "outputs": [],
   "source": [
    "# This is the url you will scrape in this exercise\n",
    "url = 'https://www.emsc-csem.org/Earthquake/'"
   ]
  },
  {
   "cell_type": "code",
   "execution_count": 100,
   "metadata": {},
   "outputs": [],
   "source": [
    "#your code\n",
    "res=requests.get(url)\n",
    "html=res.text\n",
    "soup7=BeautifulSoup(html,'html.parser')"
   ]
  },
  {
   "cell_type": "code",
   "execution_count": 107,
   "metadata": {},
   "outputs": [
    {
     "data": {
      "text/plain": [
       "[{'date': '2019-11-07\\xa0\\xa0\\xa018:56:03.8',\n",
       "  'time': '/Earthquake/earthquake.php?id=803833'},\n",
       " {'date': '4',\n",
       "  'time': 'https://www.emsc-csem.org/Earthquake/Testimonies/comments.php?id=803831'},\n",
       " {'date': '2019-11-07\\xa0\\xa0\\xa018:25:00.0',\n",
       "  'time': '/Earthquake/earthquake.php?id=803834'},\n",
       " {'date': '2019-11-07\\xa0\\xa0\\xa018:16:30.0',\n",
       "  'time': '/Earthquake/earthquake.php?id=803832'},\n",
       " {'date': '2019-11-07\\xa0\\xa0\\xa017:59:30.0',\n",
       "  'time': '/Earthquake/earthquake.php?id=803824'},\n",
       " {'date': '1',\n",
       "  'time': 'https://www.emsc-csem.org/Earthquake/Testimonies/comments.php?id=803820'},\n",
       " {'date': '2019-11-07\\xa0\\xa0\\xa017:47:53.2',\n",
       "  'time': '/Earthquake/earthquake.php?id=803821'},\n",
       " {'date': '9',\n",
       "  'time': 'https://www.emsc-csem.org/Earthquake/Testimonies/comments.php?id=803822'},\n",
       " {'date': '2019-11-07\\xa0\\xa0\\xa017:11:12.7',\n",
       "  'time': '/Earthquake/earthquake.php?id=803811'},\n",
       " {'date': '2019-11-07\\xa0\\xa0\\xa016:24:29.1',\n",
       "  'time': '/Earthquake/earthquake.php?id=803806'},\n",
       " {'date': '2019-11-07\\xa0\\xa0\\xa015:40:09.0',\n",
       "  'time': '/Earthquake/earthquake.php?id=803801'},\n",
       " {'date': '2019-11-07\\xa0\\xa0\\xa015:08:11.6',\n",
       "  'time': '/Earthquake/earthquake.php?id=803796'},\n",
       " {'date': '1',\n",
       "  'time': 'https://www.emsc-csem.org/Earthquake/Testimonies/comments.php?id=803792'},\n",
       " {'date': '2019-11-07\\xa0\\xa0\\xa014:37:54.3',\n",
       "  'time': '/Earthquake/earthquake.php?id=803805'},\n",
       " {'date': '1',\n",
       "  'time': 'https://www.emsc-csem.org/Earthquake/Testimonies/comments.php?id=803788'},\n",
       " {'date': '2019-11-07\\xa0\\xa0\\xa014:21:48.6',\n",
       "  'time': '/Earthquake/earthquake.php?id=803786'},\n",
       " {'date': '1',\n",
       "  'time': 'https://www.emsc-csem.org/Earthquake/Testimonies/comments.php?id=803770'},\n",
       " {'date': '2019-11-07\\xa0\\xa0\\xa013:25:35.3',\n",
       "  'time': '/Earthquake/earthquake.php?id=803768'},\n",
       " {'date': '2019-11-07\\xa0\\xa0\\xa013:16:11.0',\n",
       "  'time': '/Earthquake/earthquake.php?id=803769'},\n",
       " {'date': '25',\n",
       "  'time': 'https://www.emsc-csem.org/Earthquake/Testimonies/comments.php?id=803762'},\n",
       " {'date': '8',\n",
       "  'time': 'https://www.emsc-csem.org/Earthquake/Testimonies/comments.php?id=803760'},\n",
       " {'date': '18',\n",
       "  'time': 'https://www.emsc-csem.org/Earthquake/Testimonies/comments.php?id=803758'},\n",
       " {'date': '2019-11-07\\xa0\\xa0\\xa011:58:33.9',\n",
       "  'time': '/Earthquake/earthquake.php?id=803754'},\n",
       " {'date': '2019-11-07\\xa0\\xa0\\xa011:02:12.0',\n",
       "  'time': '/Earthquake/earthquake.php?id=803749'},\n",
       " {'date': '2019-11-07\\xa0\\xa0\\xa011:00:29.5',\n",
       "  'time': '/Earthquake/earthquake.php?id=803747'}]"
      ]
     },
     "execution_count": 107,
     "metadata": {},
     "output_type": "execute_result"
    }
   ],
   "source": [
    "earthq = []\n",
    "for e in soup7.select('.ligne1.normal'):\n",
    "    eq=e.find('a')\n",
    "    if e:\n",
    "        earthq.append({\"date\": eq.text,\n",
    "                      \"time\": eq.get('href')\n",
    "                       \"latitude\": e.\n",
    "                      })\n",
    "earthq"
   ]
  },
  {
   "cell_type": "markdown",
   "metadata": {},
   "source": [
    "#### Display the date, days, title, city, country of next 25 hackathon events as a Pandas dataframe table"
   ]
  },
  {
   "cell_type": "code",
   "execution_count": null,
   "metadata": {},
   "outputs": [],
   "source": [
    "# This is the url you will scrape in this exercise\n",
    "url ='https://hackevents.co/hackathons'"
   ]
  },
  {
   "cell_type": "code",
   "execution_count": null,
   "metadata": {},
   "outputs": [],
   "source": [
    "#your code"
   ]
  },
  {
   "cell_type": "markdown",
   "metadata": {},
   "source": [
    "#### Count number of tweets by a given Twitter account."
   ]
  },
  {
   "cell_type": "markdown",
   "metadata": {},
   "source": [
    "You will need to include a ***try/except block*** for account names not found. \n",
    "<br>***Hint:*** the program should count the number of tweets for any provided account"
   ]
  },
  {
   "cell_type": "code",
   "execution_count": null,
   "metadata": {},
   "outputs": [],
   "source": [
    "# This is the url you will scrape in this exercise \n",
    "# You will need to add the account credentials to this url\n",
    "url = 'https://twitter.com/'"
   ]
  },
  {
   "cell_type": "code",
   "execution_count": null,
   "metadata": {},
   "outputs": [],
   "source": [
    "#your code"
   ]
  },
  {
   "cell_type": "markdown",
   "metadata": {},
   "source": [
    "#### Number of followers of a given twitter account"
   ]
  },
  {
   "cell_type": "markdown",
   "metadata": {},
   "source": [
    "You will need to include a ***try/except block*** in case account/s name not found. \n",
    "<br>***Hint:*** the program should count the followers for any provided account"
   ]
  },
  {
   "cell_type": "code",
   "execution_count": null,
   "metadata": {},
   "outputs": [],
   "source": [
    "# This is the url you will scrape in this exercise \n",
    "# You will need to add the account credentials to this url\n",
    "url = 'https://twitter.com/'"
   ]
  },
  {
   "cell_type": "code",
   "execution_count": null,
   "metadata": {},
   "outputs": [],
   "source": [
    "#your code"
   ]
  },
  {
   "cell_type": "markdown",
   "metadata": {},
   "source": [
    "#### List all language names and number of related articles in the order they appear in wikipedia.org"
   ]
  },
  {
   "cell_type": "code",
   "execution_count": null,
   "metadata": {},
   "outputs": [],
   "source": [
    "# This is the url you will scrape in this exercise\n",
    "url = 'https://www.wikipedia.org/'"
   ]
  },
  {
   "cell_type": "code",
   "execution_count": null,
   "metadata": {},
   "outputs": [],
   "source": [
    "#your code"
   ]
  },
  {
   "cell_type": "markdown",
   "metadata": {},
   "source": [
    "#### A list with the different kind of datasets available in data.gov.uk "
   ]
  },
  {
   "cell_type": "code",
   "execution_count": null,
   "metadata": {},
   "outputs": [],
   "source": [
    "# This is the url you will scrape in this exercise\n",
    "url = 'https://data.gov.uk/'"
   ]
  },
  {
   "cell_type": "code",
   "execution_count": null,
   "metadata": {},
   "outputs": [],
   "source": [
    "#your code "
   ]
  },
  {
   "cell_type": "markdown",
   "metadata": {},
   "source": [
    "#### Top 10 languages by number of native speakers stored in a Pandas Dataframe"
   ]
  },
  {
   "cell_type": "code",
   "execution_count": null,
   "metadata": {},
   "outputs": [],
   "source": [
    "# This is the url you will scrape in this exercise\n",
    "url = 'https://en.wikipedia.org/wiki/List_of_languages_by_number_of_native_speakers'"
   ]
  },
  {
   "cell_type": "code",
   "execution_count": null,
   "metadata": {},
   "outputs": [],
   "source": [
    "#your code"
   ]
  },
  {
   "cell_type": "markdown",
   "metadata": {},
   "source": [
    "### BONUS QUESTIONS"
   ]
  },
  {
   "cell_type": "markdown",
   "metadata": {},
   "source": [
    "#### Scrape a certain number of tweets of a given Twitter account."
   ]
  },
  {
   "cell_type": "code",
   "execution_count": null,
   "metadata": {},
   "outputs": [],
   "source": [
    "# This is the url you will scrape in this exercise \n",
    "# You will need to add the account credentials to this url\n",
    "url = 'https://twitter.com/'"
   ]
  },
  {
   "cell_type": "code",
   "execution_count": null,
   "metadata": {},
   "outputs": [],
   "source": [
    "# your code"
   ]
  },
  {
   "cell_type": "markdown",
   "metadata": {},
   "source": [
    "#### IMDB's Top 250 data (movie name, Initial release, director name and stars) as a pandas dataframe"
   ]
  },
  {
   "cell_type": "code",
   "execution_count": null,
   "metadata": {},
   "outputs": [],
   "source": [
    "# This is the url you will scrape in this exercise \n",
    "url = 'https://www.imdb.com/chart/top'"
   ]
  },
  {
   "cell_type": "code",
   "execution_count": null,
   "metadata": {},
   "outputs": [],
   "source": [
    "# your code"
   ]
  },
  {
   "cell_type": "markdown",
   "metadata": {},
   "source": [
    "#### Movie name, year and a brief summary of the top 10 random movies (IMDB) as a pandas dataframe."
   ]
  },
  {
   "cell_type": "code",
   "execution_count": null,
   "metadata": {},
   "outputs": [],
   "source": [
    "#This is the url you will scrape in this exercise\n",
    "url = 'http://www.imdb.com/chart/top'"
   ]
  },
  {
   "cell_type": "code",
   "execution_count": null,
   "metadata": {},
   "outputs": [],
   "source": [
    "#your code"
   ]
  },
  {
   "cell_type": "markdown",
   "metadata": {},
   "source": [
    "#### Find the live weather report (temperature, wind speed, description and weather) of a given city."
   ]
  },
  {
   "cell_type": "code",
   "execution_count": null,
   "metadata": {},
   "outputs": [],
   "source": [
    "#https://openweathermap.org/current\n",
    "city = city=input('Enter the city:')\n",
    "url = 'http://api.openweathermap.org/data/2.5/weather?'+'q='+city+'&APPID=b35975e18dc93725acb092f7272cc6b8&units=metric'"
   ]
  },
  {
   "cell_type": "code",
   "execution_count": null,
   "metadata": {},
   "outputs": [],
   "source": [
    "# your code"
   ]
  },
  {
   "cell_type": "markdown",
   "metadata": {},
   "source": [
    "#### Book name,price and stock availability as a pandas dataframe."
   ]
  },
  {
   "cell_type": "code",
   "execution_count": null,
   "metadata": {},
   "outputs": [],
   "source": [
    "# This is the url you will scrape in this exercise. \n",
    "# It is a fictional bookstore created to be scraped. \n",
    "url = 'http://books.toscrape.com/'"
   ]
  },
  {
   "cell_type": "code",
   "execution_count": null,
   "metadata": {},
   "outputs": [],
   "source": [
    "#your code"
   ]
  }
 ],
 "metadata": {
  "kernelspec": {
   "display_name": "Python 3",
   "language": "python",
   "name": "python3"
  },
  "language_info": {
   "codemirror_mode": {
    "name": "ipython",
    "version": 3
   },
   "file_extension": ".py",
   "mimetype": "text/x-python",
   "name": "python",
   "nbconvert_exporter": "python",
   "pygments_lexer": "ipython3",
   "version": "3.7.4"
  }
 },
 "nbformat": 4,
 "nbformat_minor": 2
}
