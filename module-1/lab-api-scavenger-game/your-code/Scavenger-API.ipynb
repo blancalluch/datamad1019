{
 "cells": [
  {
   "cell_type": "code",
   "execution_count": null,
   "metadata": {},
   "outputs": [],
   "source": [
    "#Challenge 1"
   ]
  },
  {
   "cell_type": "code",
   "execution_count": 3,
   "metadata": {},
   "outputs": [],
   "source": [
    "import os\n",
    "import requests\n",
    "import re"
   ]
  },
  {
   "cell_type": "code",
   "execution_count": 4,
   "metadata": {},
   "outputs": [],
   "source": [
    "from dotenv import load_dotenv\n",
    "load_dotenv()\n",
    "\n",
    "# https://developer.github.com/v3/\n",
    "def githubRequestAuthorized(resource):\n",
    "    authToken = os.getenv(\"GIT_TOKEN\")\n",
    "    if not authToken:\n",
    "        raise ValueError(\"NECESITAS UN TOKEN\")\n",
    "    else:\n",
    "        print(\"We have a github token: \", authToken[0:4])\n",
    "    headers = {\n",
    "        \"Authorization\": \"token {}\".format(authToken)\n",
    "    }\n",
    "    url = \"https://api.github.com{}\".format(resource)\n",
    "    print(\"Requesting authorized {}\".format(url))\n",
    "    res = requests.get(url, headers=headers)\n",
    "    return res"
   ]
  },
  {
   "cell_type": "code",
   "execution_count": 5,
   "metadata": {},
   "outputs": [
    {
     "name": "stdout",
     "output_type": "stream",
     "text": [
      "We have a github token:  d525\n",
      "Requesting authorized https://api.github.com/repos/ironhack-datalabs/datamad1019/forks\n"
     ]
    }
   ],
   "source": [
    "data = githubRequestAuthorized(\"/repos/ironhack-datalabs/datamad1019/forks\").json()"
   ]
  },
  {
   "cell_type": "code",
   "execution_count": 6,
   "metadata": {},
   "outputs": [],
   "source": [
    "lista_url=list(map(lambda repo: repo['languages_url'], data))"
   ]
  },
  {
   "cell_type": "code",
   "execution_count": 7,
   "metadata": {},
   "outputs": [
    {
     "name": "stdout",
     "output_type": "stream",
     "text": [
      "We have a github token:  d525\n",
      "Requesting authorized https://api.github.com/repos/begoechavarren/datamad1019/languages\n",
      "We have a github token:  d525\n",
      "Requesting authorized https://api.github.com/repos/mariobru/datamad1019/languages\n",
      "We have a github token:  d525\n",
      "Requesting authorized https://api.github.com/repos/jlmingo/datamad1019/languages\n",
      "We have a github token:  d525\n",
      "Requesting authorized https://api.github.com/repos/Ovion/datamad1019/languages\n",
      "We have a github token:  d525\n",
      "Requesting authorized https://api.github.com/repos/ToniPons97/datamad1019/languages\n",
      "We have a github token:  d525\n",
      "Requesting authorized https://api.github.com/repos/noeliacarrion/datamad1019/languages\n",
      "We have a github token:  d525\n",
      "Requesting authorized https://api.github.com/repos/mariaadradosr/datamad1019/languages\n",
      "We have a github token:  d525\n",
      "Requesting authorized https://api.github.com/repos/Juliopdata/datamad1019/languages\n",
      "We have a github token:  d525\n",
      "Requesting authorized https://api.github.com/repos/guzmanueco/datamad1019/languages\n",
      "We have a github token:  d525\n",
      "Requesting authorized https://api.github.com/repos/blancaalcala/datamad1019/languages\n",
      "We have a github token:  d525\n",
      "Requesting authorized https://api.github.com/repos/AlexMndzF/datamad1019/languages\n",
      "We have a github token:  d525\n",
      "Requesting authorized https://api.github.com/repos/David-Fde/datamad1019/languages\n",
      "We have a github token:  d525\n",
      "Requesting authorized https://api.github.com/repos/MaikaRG/datamad1019/languages\n",
      "We have a github token:  d525\n",
      "Requesting authorized https://api.github.com/repos/Turandot123/datamad1019/languages\n",
      "We have a github token:  d525\n",
      "Requesting authorized https://api.github.com/repos/isagc/datamad1019/languages\n",
      "We have a github token:  d525\n",
      "Requesting authorized https://api.github.com/repos/alfpml/datamad1019/languages\n",
      "We have a github token:  d525\n",
      "Requesting authorized https://api.github.com/repos/mermora97/datamad1019/languages\n",
      "We have a github token:  d525\n",
      "Requesting authorized https://api.github.com/repos/jm-cruz-d/datamad1019/languages\n",
      "We have a github token:  d525\n",
      "Requesting authorized https://api.github.com/repos/blancalluch/datamad1019/languages\n",
      "We have a github token:  d525\n",
      "Requesting authorized https://api.github.com/repos/albertovpd/datamad1019/languages\n",
      "We have a github token:  d525\n",
      "Requesting authorized https://api.github.com/repos/mariaversin/datamad1019/languages\n",
      "We have a github token:  d525\n",
      "Requesting authorized https://api.github.com/repos/seorakwon/datamad1019/languages\n",
      "We have a github token:  d525\n",
      "Requesting authorized https://api.github.com/repos/Jpereza24/datamad1019/languages\n",
      "We have a github token:  d525\n",
      "Requesting authorized https://api.github.com/repos/castares/datamad1019/languages\n",
      "We have a github token:  d525\n",
      "Requesting authorized https://api.github.com/repos/progameitor/datamad1019/languages\n",
      "We have a github token:  d525\n",
      "Requesting authorized https://api.github.com/repos/Masdevallia/datamad1019/languages\n",
      "We have a github token:  d525\n",
      "Requesting authorized https://api.github.com/repos/cprietosegura/datamad1019/languages\n",
      "We have a github token:  d525\n",
      "Requesting authorized https://api.github.com/repos/jgph91/datamad1019/languages\n",
      "We have a github token:  d525\n",
      "Requesting authorized https://api.github.com/repos/alvarorivasg/datamad1019/languages\n",
      "We have a github token:  d525\n",
      "Requesting authorized https://api.github.com/repos/Clapiniella/datamad1019/languages\n"
     ]
    }
   ],
   "source": [
    "for url in lista_url:\n",
    "    url=re.sub('https://api.github.com','',url)\n",
    "    d=githubRequestAuthorized(url).json()\n",
    "languages=list(map(lambda repo: repo, d))"
   ]
  },
  {
   "cell_type": "code",
   "execution_count": 8,
   "metadata": {},
   "outputs": [
    {
     "data": {
      "text/plain": [
       "['Jupyter Notebook', 'HTML', 'Python']"
      ]
     },
     "execution_count": 8,
     "metadata": {},
     "output_type": "execute_result"
    }
   ],
   "source": [
    "languages"
   ]
  },
  {
   "cell_type": "code",
   "execution_count": 9,
   "metadata": {},
   "outputs": [],
   "source": [
    "#Challenge 2"
   ]
  },
  {
   "cell_type": "code",
   "execution_count": 10,
   "metadata": {},
   "outputs": [],
   "source": [
    "#data"
   ]
  },
  {
   "cell_type": "code",
   "execution_count": 11,
   "metadata": {},
   "outputs": [],
   "source": [
    "url_commits=list(map(lambda repo: repo['commits_url'], data))"
   ]
  },
  {
   "cell_type": "code",
   "execution_count": 12,
   "metadata": {},
   "outputs": [
    {
     "name": "stdout",
     "output_type": "stream",
     "text": [
      "We have a github token:  d525\n",
      "Requesting authorized https://api.github.com/repos/begoechavarren/datamad1019/commits\n",
      "We have a github token:  d525\n",
      "Requesting authorized https://api.github.com/repos/mariobru/datamad1019/commits\n",
      "We have a github token:  d525\n",
      "Requesting authorized https://api.github.com/repos/jlmingo/datamad1019/commits\n",
      "We have a github token:  d525\n",
      "Requesting authorized https://api.github.com/repos/Ovion/datamad1019/commits\n",
      "We have a github token:  d525\n",
      "Requesting authorized https://api.github.com/repos/ToniPons97/datamad1019/commits\n",
      "We have a github token:  d525\n",
      "Requesting authorized https://api.github.com/repos/noeliacarrion/datamad1019/commits\n",
      "We have a github token:  d525\n",
      "Requesting authorized https://api.github.com/repos/mariaadradosr/datamad1019/commits\n",
      "We have a github token:  d525\n",
      "Requesting authorized https://api.github.com/repos/Juliopdata/datamad1019/commits\n",
      "We have a github token:  d525\n",
      "Requesting authorized https://api.github.com/repos/guzmanueco/datamad1019/commits\n",
      "We have a github token:  d525\n",
      "Requesting authorized https://api.github.com/repos/blancaalcala/datamad1019/commits\n",
      "We have a github token:  d525\n",
      "Requesting authorized https://api.github.com/repos/AlexMndzF/datamad1019/commits\n",
      "We have a github token:  d525\n",
      "Requesting authorized https://api.github.com/repos/David-Fde/datamad1019/commits\n",
      "We have a github token:  d525\n",
      "Requesting authorized https://api.github.com/repos/MaikaRG/datamad1019/commits\n",
      "We have a github token:  d525\n",
      "Requesting authorized https://api.github.com/repos/Turandot123/datamad1019/commits\n",
      "We have a github token:  d525\n",
      "Requesting authorized https://api.github.com/repos/isagc/datamad1019/commits\n",
      "We have a github token:  d525\n",
      "Requesting authorized https://api.github.com/repos/alfpml/datamad1019/commits\n",
      "We have a github token:  d525\n",
      "Requesting authorized https://api.github.com/repos/mermora97/datamad1019/commits\n",
      "We have a github token:  d525\n",
      "Requesting authorized https://api.github.com/repos/jm-cruz-d/datamad1019/commits\n",
      "We have a github token:  d525\n",
      "Requesting authorized https://api.github.com/repos/blancalluch/datamad1019/commits\n",
      "We have a github token:  d525\n",
      "Requesting authorized https://api.github.com/repos/albertovpd/datamad1019/commits\n",
      "We have a github token:  d525\n",
      "Requesting authorized https://api.github.com/repos/mariaversin/datamad1019/commits\n",
      "We have a github token:  d525\n",
      "Requesting authorized https://api.github.com/repos/seorakwon/datamad1019/commits\n",
      "We have a github token:  d525\n",
      "Requesting authorized https://api.github.com/repos/Jpereza24/datamad1019/commits\n",
      "We have a github token:  d525\n",
      "Requesting authorized https://api.github.com/repos/castares/datamad1019/commits\n",
      "We have a github token:  d525\n",
      "Requesting authorized https://api.github.com/repos/progameitor/datamad1019/commits\n",
      "We have a github token:  d525\n",
      "Requesting authorized https://api.github.com/repos/Masdevallia/datamad1019/commits\n",
      "We have a github token:  d525\n",
      "Requesting authorized https://api.github.com/repos/cprietosegura/datamad1019/commits\n",
      "We have a github token:  d525\n",
      "Requesting authorized https://api.github.com/repos/jgph91/datamad1019/commits\n",
      "We have a github token:  d525\n",
      "Requesting authorized https://api.github.com/repos/alvarorivasg/datamad1019/commits\n",
      "We have a github token:  d525\n",
      "Requesting authorized https://api.github.com/repos/Clapiniella/datamad1019/commits\n"
     ]
    }
   ],
   "source": [
    "num_commits=0\n",
    "for com in url_commits:\n",
    "    com=re.sub('https://api.github.com','',com)\n",
    "    com=re.sub('\\{/sha\\}','',com)\n",
    "    d=githubRequestAuthorized(com).json()\n",
    "    num_commits+=len(list(map(lambda repo: repo['commit']['committer']['date'] if re.findall('2019-10',repo['commit']['committer']['date']) else False, d)))"
   ]
  },
  {
   "cell_type": "code",
   "execution_count": 13,
   "metadata": {},
   "outputs": [
    {
     "data": {
      "text/plain": [
       "900"
      ]
     },
     "execution_count": 13,
     "metadata": {},
     "output_type": "execute_result"
    }
   ],
   "source": [
    "#todos los commits de todos los forks de octubre\n",
    "num_commits"
   ]
  },
  {
   "cell_type": "code",
   "execution_count": 14,
   "metadata": {},
   "outputs": [
    {
     "name": "stdout",
     "output_type": "stream",
     "text": [
      "We have a github token:  d525\n",
      "Requesting authorized https://api.github.com/repos/ironhack-datalabs/datamad1019/commits$since=2019-10-0100:00:00\n"
     ]
    }
   ],
   "source": [
    "data = githubRequestAuthorized(\"/repos/ironhack-datalabs/datamad1019/commits$since=2019-10-0100:00:00\").json()"
   ]
  },
  {
   "cell_type": "code",
   "execution_count": 15,
   "metadata": {},
   "outputs": [
    {
     "data": {
      "text/plain": [
       "2"
      ]
     },
     "execution_count": 15,
     "metadata": {},
     "output_type": "execute_result"
    }
   ],
   "source": [
    "#los commits de datamad desde eel 1 de octubre\n",
    "len(data)"
   ]
  },
  {
   "cell_type": "code",
   "execution_count": 16,
   "metadata": {},
   "outputs": [],
   "source": [
    "#Challenge 3"
   ]
  },
  {
   "cell_type": "code",
   "execution_count": 17,
   "metadata": {},
   "outputs": [
    {
     "name": "stdout",
     "output_type": "stream",
     "text": [
      "We have a github token:  d525\n",
      "Requesting authorized https://api.github.com/repos/ironhack-datalabs/scavenger/contents\n"
     ]
    }
   ],
   "source": [
    "scavenger = githubRequestAuthorized(\"/repos/ironhack-datalabs/scavenger/contents\").json()\n",
    "#scavenger"
   ]
  },
  {
   "cell_type": "code",
   "execution_count": 18,
   "metadata": {},
   "outputs": [
    {
     "name": "stdout",
     "output_type": "stream",
     "text": [
      "['.gitignore', '15024', '15534', '17020', '30351', '40303', '44639', '45525', '47222', '47830', '49418', '50896', '55417', '55685', '60224', '64880', '66032', '68848', '70751', '70985', '88596', '89046', '89338', '91701', '97881', '98750']\n"
     ]
    }
   ],
   "source": [
    "paths=list(map(lambda repo: repo['path'], scavenger))\n",
    "print(paths)"
   ]
  },
  {
   "cell_type": "code",
   "execution_count": 19,
   "metadata": {},
   "outputs": [
    {
     "name": "stdout",
     "output_type": "stream",
     "text": [
      "We have a github token:  d525\n",
      "Requesting authorized https://api.github.com/repos/ironhack-datalabs/scavenger/contents/15024\n",
      "We have a github token:  d525\n",
      "Requesting authorized https://api.github.com/repos/ironhack-datalabs/scavenger/contents/15534\n",
      "We have a github token:  d525\n",
      "Requesting authorized https://api.github.com/repos/ironhack-datalabs/scavenger/contents/17020\n",
      "We have a github token:  d525\n",
      "Requesting authorized https://api.github.com/repos/ironhack-datalabs/scavenger/contents/30351\n",
      "We have a github token:  d525\n",
      "Requesting authorized https://api.github.com/repos/ironhack-datalabs/scavenger/contents/40303\n",
      "We have a github token:  d525\n",
      "Requesting authorized https://api.github.com/repos/ironhack-datalabs/scavenger/contents/44639\n",
      "We have a github token:  d525\n",
      "Requesting authorized https://api.github.com/repos/ironhack-datalabs/scavenger/contents/45525\n",
      "We have a github token:  d525\n",
      "Requesting authorized https://api.github.com/repos/ironhack-datalabs/scavenger/contents/47222\n",
      "We have a github token:  d525\n",
      "Requesting authorized https://api.github.com/repos/ironhack-datalabs/scavenger/contents/47830\n",
      "We have a github token:  d525\n",
      "Requesting authorized https://api.github.com/repos/ironhack-datalabs/scavenger/contents/49418\n",
      "We have a github token:  d525\n",
      "Requesting authorized https://api.github.com/repos/ironhack-datalabs/scavenger/contents/50896\n",
      "We have a github token:  d525\n",
      "Requesting authorized https://api.github.com/repos/ironhack-datalabs/scavenger/contents/55417\n",
      "We have a github token:  d525\n",
      "Requesting authorized https://api.github.com/repos/ironhack-datalabs/scavenger/contents/55685\n",
      "We have a github token:  d525\n",
      "Requesting authorized https://api.github.com/repos/ironhack-datalabs/scavenger/contents/60224\n",
      "We have a github token:  d525\n",
      "Requesting authorized https://api.github.com/repos/ironhack-datalabs/scavenger/contents/64880\n",
      "We have a github token:  d525\n",
      "Requesting authorized https://api.github.com/repos/ironhack-datalabs/scavenger/contents/66032\n",
      "We have a github token:  d525\n",
      "Requesting authorized https://api.github.com/repos/ironhack-datalabs/scavenger/contents/68848\n",
      "We have a github token:  d525\n",
      "Requesting authorized https://api.github.com/repos/ironhack-datalabs/scavenger/contents/70751\n",
      "We have a github token:  d525\n",
      "Requesting authorized https://api.github.com/repos/ironhack-datalabs/scavenger/contents/70985\n",
      "We have a github token:  d525\n",
      "Requesting authorized https://api.github.com/repos/ironhack-datalabs/scavenger/contents/88596\n",
      "We have a github token:  d525\n",
      "Requesting authorized https://api.github.com/repos/ironhack-datalabs/scavenger/contents/89046\n",
      "We have a github token:  d525\n",
      "Requesting authorized https://api.github.com/repos/ironhack-datalabs/scavenger/contents/89338\n",
      "We have a github token:  d525\n",
      "Requesting authorized https://api.github.com/repos/ironhack-datalabs/scavenger/contents/91701\n",
      "We have a github token:  d525\n",
      "Requesting authorized https://api.github.com/repos/ironhack-datalabs/scavenger/contents/97881\n",
      "We have a github token:  d525\n",
      "Requesting authorized https://api.github.com/repos/ironhack-datalabs/scavenger/contents/98750\n"
     ]
    }
   ],
   "source": [
    "paths=paths[1:]\n",
    "secret_files=[]\n",
    "for path in paths:\n",
    "    d=githubRequestAuthorized('/repos/ironhack-datalabs/scavenger/contents/'+path).json()\n",
    "    secret_files.append(list(map(lambda repo: repo['path'] if len(repo['name'])>2 else False, d)))"
   ]
  },
  {
   "cell_type": "code",
   "execution_count": 20,
   "metadata": {},
   "outputs": [],
   "source": [
    "secret_fil=[]\n",
    "for sec in secret_files:\n",
    "    for s in sec:\n",
    "        if s!=False:\n",
    "            secret_fil.append(s)\n"
   ]
  },
  {
   "cell_type": "code",
   "execution_count": 21,
   "metadata": {},
   "outputs": [
    {
     "data": {
      "text/plain": [
       "['15024/.0006.scavengerhunt',\n",
       " '15534/.0008.scavengerhunt',\n",
       " '15534/.0012.scavengerhunt',\n",
       " '17020/.0007.scavengerhunt',\n",
       " '30351/.0021.scavengerhunt',\n",
       " '40303/.0022.scavengerhunt',\n",
       " '44639/.0005.scavengerhunt',\n",
       " '45525/.0018.scavengerhunt',\n",
       " '47222/.0016.scavengerhunt',\n",
       " '47222/.0024.scavengerhunt',\n",
       " '47830/.0010.scavengerhunt',\n",
       " '49418/.0014.scavengerhunt',\n",
       " '50896/.0011.scavengerhunt',\n",
       " '55417/.0023.scavengerhunt',\n",
       " '55685/.0020.scavengerhunt',\n",
       " '60224/.0003.scavengerhunt',\n",
       " '68848/.0004.scavengerhunt',\n",
       " '70751/.0019.scavengerhunt',\n",
       " '70985/.0017.scavengerhunt',\n",
       " '88596/.0002.scavengerhunt',\n",
       " '89338/.0013.scavengerhunt',\n",
       " '91701/.0015.scavengerhunt',\n",
       " '97881/.0009.scavengerhunt',\n",
       " '98750/.0001.scavengerhunt']"
      ]
     },
     "execution_count": 21,
     "metadata": {},
     "output_type": "execute_result"
    }
   ],
   "source": [
    "secret_fil"
   ]
  },
  {
   "cell_type": "code",
   "execution_count": 22,
   "metadata": {},
   "outputs": [
    {
     "name": "stdout",
     "output_type": "stream",
     "text": [
      "['98750/.0001.scavengerhunt', '88596/.0002.scavengerhunt', '60224/.0003.scavengerhunt', '68848/.0004.scavengerhunt', '44639/.0005.scavengerhunt', '15024/.0006.scavengerhunt', '17020/.0007.scavengerhunt', '15534/.0008.scavengerhunt', '97881/.0009.scavengerhunt', '47830/.0010.scavengerhunt', '50896/.0011.scavengerhunt', '15534/.0012.scavengerhunt', '89338/.0013.scavengerhunt', '49418/.0014.scavengerhunt', '91701/.0015.scavengerhunt', '47222/.0016.scavengerhunt', '70985/.0017.scavengerhunt', '45525/.0018.scavengerhunt', '70751/.0019.scavengerhunt', '55685/.0020.scavengerhunt', '30351/.0021.scavengerhunt', '40303/.0022.scavengerhunt', '55417/.0023.scavengerhunt', '47222/.0024.scavengerhunt']\n"
     ]
    }
   ],
   "source": [
    "secret_fil=sorted(secret_fil,key=lambda s:(s[9],s[10]))\n",
    "print(secret_fil)"
   ]
  },
  {
   "cell_type": "code",
   "execution_count": 23,
   "metadata": {},
   "outputs": [
    {
     "name": "stdout",
     "output_type": "stream",
     "text": [
      "We have a github token:  d525\n",
      "Requesting authorized https://api.github.com/repos/ironhack-datalabs/scavenger/contents/98750/.0001.scavengerhunt\n",
      "We have a github token:  d525\n",
      "Requesting authorized https://api.github.com/repos/ironhack-datalabs/scavenger/contents/88596/.0002.scavengerhunt\n",
      "We have a github token:  d525\n",
      "Requesting authorized https://api.github.com/repos/ironhack-datalabs/scavenger/contents/60224/.0003.scavengerhunt\n",
      "We have a github token:  d525\n",
      "Requesting authorized https://api.github.com/repos/ironhack-datalabs/scavenger/contents/68848/.0004.scavengerhunt\n",
      "We have a github token:  d525\n",
      "Requesting authorized https://api.github.com/repos/ironhack-datalabs/scavenger/contents/44639/.0005.scavengerhunt\n",
      "We have a github token:  d525\n",
      "Requesting authorized https://api.github.com/repos/ironhack-datalabs/scavenger/contents/15024/.0006.scavengerhunt\n",
      "We have a github token:  d525\n",
      "Requesting authorized https://api.github.com/repos/ironhack-datalabs/scavenger/contents/17020/.0007.scavengerhunt\n",
      "We have a github token:  d525\n",
      "Requesting authorized https://api.github.com/repos/ironhack-datalabs/scavenger/contents/15534/.0008.scavengerhunt\n",
      "We have a github token:  d525\n",
      "Requesting authorized https://api.github.com/repos/ironhack-datalabs/scavenger/contents/97881/.0009.scavengerhunt\n",
      "We have a github token:  d525\n",
      "Requesting authorized https://api.github.com/repos/ironhack-datalabs/scavenger/contents/47830/.0010.scavengerhunt\n",
      "We have a github token:  d525\n",
      "Requesting authorized https://api.github.com/repos/ironhack-datalabs/scavenger/contents/50896/.0011.scavengerhunt\n",
      "We have a github token:  d525\n",
      "Requesting authorized https://api.github.com/repos/ironhack-datalabs/scavenger/contents/15534/.0012.scavengerhunt\n",
      "We have a github token:  d525\n",
      "Requesting authorized https://api.github.com/repos/ironhack-datalabs/scavenger/contents/89338/.0013.scavengerhunt\n",
      "We have a github token:  d525\n",
      "Requesting authorized https://api.github.com/repos/ironhack-datalabs/scavenger/contents/49418/.0014.scavengerhunt\n",
      "We have a github token:  d525\n",
      "Requesting authorized https://api.github.com/repos/ironhack-datalabs/scavenger/contents/91701/.0015.scavengerhunt\n",
      "We have a github token:  d525\n",
      "Requesting authorized https://api.github.com/repos/ironhack-datalabs/scavenger/contents/47222/.0016.scavengerhunt\n",
      "We have a github token:  d525\n",
      "Requesting authorized https://api.github.com/repos/ironhack-datalabs/scavenger/contents/70985/.0017.scavengerhunt\n",
      "We have a github token:  d525\n",
      "Requesting authorized https://api.github.com/repos/ironhack-datalabs/scavenger/contents/45525/.0018.scavengerhunt\n",
      "We have a github token:  d525\n",
      "Requesting authorized https://api.github.com/repos/ironhack-datalabs/scavenger/contents/70751/.0019.scavengerhunt\n",
      "We have a github token:  d525\n",
      "Requesting authorized https://api.github.com/repos/ironhack-datalabs/scavenger/contents/55685/.0020.scavengerhunt\n",
      "We have a github token:  d525\n",
      "Requesting authorized https://api.github.com/repos/ironhack-datalabs/scavenger/contents/30351/.0021.scavengerhunt\n",
      "We have a github token:  d525\n",
      "Requesting authorized https://api.github.com/repos/ironhack-datalabs/scavenger/contents/40303/.0022.scavengerhunt\n",
      "We have a github token:  d525\n",
      "Requesting authorized https://api.github.com/repos/ironhack-datalabs/scavenger/contents/55417/.0023.scavengerhunt\n",
      "We have a github token:  d525\n",
      "Requesting authorized https://api.github.com/repos/ironhack-datalabs/scavenger/contents/47222/.0024.scavengerhunt\n"
     ]
    }
   ],
   "source": [
    "frase=[]\n",
    "for file in secret_fil:\n",
    "    d=githubRequestAuthorized('/repos/ironhack-datalabs/scavenger/contents/'+file).json()\n",
    "    frase.append(d['content'])\n",
    "#sf=githubRequestAuthorized('/repos/ironhack-datalabs/scavenger/contents/'+secret_fil[0]).json()"
   ]
  },
  {
   "cell_type": "code",
   "execution_count": 24,
   "metadata": {},
   "outputs": [
    {
     "name": "stdout",
     "output_type": "stream",
     "text": [
      "['SW4K\\n', 'ZGF0YQo=\\n', 'c2NpZW5jZSwK\\n', 'ODAK\\n', 'cGVyY2VudAo=\\n', 'b2YK\\n', 'dGltZQo=\\n', 'c3BlbnQK\\n', 'aXMK\\n', 'cHJlcGFyaW5nCg==\\n', 'ZGF0YSwK\\n', 'MjAK\\n', 'cGVyY2VudAo=\\n', 'b2YK\\n', 'dGltZQo=\\n', 'aXMK\\n', 'c3BlbnQK\\n', 'Y29tcGxhaW5pbmcK\\n', 'YWJvdXQK\\n', 'dGhlCg==\\n', 'bmVlZAo=\\n', 'dG8K\\n', 'cHJlcGFyZQo=\\n', 'ZGF0YS4K\\n']\n"
     ]
    }
   ],
   "source": [
    "print(frase)"
   ]
  },
  {
   "cell_type": "code",
   "execution_count": 25,
   "metadata": {},
   "outputs": [],
   "source": [
    "import base64"
   ]
  },
  {
   "cell_type": "code",
   "execution_count": 26,
   "metadata": {},
   "outputs": [
    {
     "data": {
      "text/plain": [
       "[b'In\\n',\n",
       " b'data\\n',\n",
       " b'science,\\n',\n",
       " b'80\\n',\n",
       " b'percent\\n',\n",
       " b'of\\n',\n",
       " b'time\\n',\n",
       " b'spent\\n',\n",
       " b'is\\n',\n",
       " b'preparing\\n',\n",
       " b'data,\\n',\n",
       " b'20\\n',\n",
       " b'percent\\n',\n",
       " b'of\\n',\n",
       " b'time\\n',\n",
       " b'is\\n',\n",
       " b'spent\\n',\n",
       " b'complaining\\n',\n",
       " b'about\\n',\n",
       " b'the\\n',\n",
       " b'need\\n',\n",
       " b'to\\n',\n",
       " b'prepare\\n',\n",
       " b'data.\\n']"
      ]
     },
     "execution_count": 26,
     "metadata": {},
     "output_type": "execute_result"
    }
   ],
   "source": [
    "decod=[]\n",
    "for palabra in frase:\n",
    "    decod.append(base64.b64decode(palabra))\n",
    "decod"
   ]
  },
  {
   "cell_type": "code",
   "execution_count": 27,
   "metadata": {},
   "outputs": [],
   "source": [
    "decod2=re.sub(\"b+\\'\",\"\",str(decod))"
   ]
  },
  {
   "cell_type": "code",
   "execution_count": 28,
   "metadata": {},
   "outputs": [
    {
     "data": {
      "text/plain": [
       "\"[In', data', science,', 80', percent', of', time', spent', is', preparing', data,', 20', percent', of', time', is', spent', complaining', about', the', need', to', prepare', data.']\""
      ]
     },
     "execution_count": 28,
     "metadata": {},
     "output_type": "execute_result"
    }
   ],
   "source": [
    "frase_final=re.sub(\"\\\\\\\\n\",\"\",str(decod2))\n",
    "frase_final"
   ]
  },
  {
   "cell_type": "code",
   "execution_count": 29,
   "metadata": {},
   "outputs": [],
   "source": [
    "porfin=re.sub(\"\\',\",\"\",frase_final)"
   ]
  },
  {
   "cell_type": "code",
   "execution_count": 30,
   "metadata": {},
   "outputs": [],
   "source": [
    "porfin2=porfin[1:133]"
   ]
  },
  {
   "cell_type": "code",
   "execution_count": 31,
   "metadata": {},
   "outputs": [
    {
     "data": {
      "text/plain": [
       "'In data science, 80 percent of time spent is preparing data, 20 percent of time is spent complaining about the need to prepare data.'"
      ]
     },
     "execution_count": 31,
     "metadata": {},
     "output_type": "execute_result"
    }
   ],
   "source": [
    "porfin2"
   ]
  }
 ],
 "metadata": {
  "kernelspec": {
   "display_name": "Python 3",
   "language": "python",
   "name": "python3"
  },
  "language_info": {
   "codemirror_mode": {
    "name": "ipython",
    "version": 3
   },
   "file_extension": ".py",
   "mimetype": "text/x-python",
   "name": "python",
   "nbconvert_exporter": "python",
   "pygments_lexer": "ipython3",
   "version": "3.7.4"
  }
 },
 "nbformat": 4,
 "nbformat_minor": 2
}
